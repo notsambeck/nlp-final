{
 "cells": [
  {
   "cell_type": "markdown",
   "id": "275c34b1",
   "metadata": {},
   "source": [
    "# Visualizing embeddings\n"
   ]
  },
  {
   "cell_type": "code",
   "execution_count": 1,
   "id": "244d4dbc",
   "metadata": {},
   "outputs": [],
   "source": [
    "import datasets\n",
    "from transformers import AutoTokenizer, AutoModelForSequenceClassification, \\\n",
    "    AutoModelForQuestionAnswering, Trainer, TrainingArguments, HfArgumentParser, pipeline\n",
    "from helpers import prepare_dataset_nli, prepare_train_dataset_qa, \\\n",
    "    prepare_validation_dataset_qa, QuestionAnsweringTrainer, compute_accuracy\n",
    "import os\n",
    "import json\n",
    "\n",
    "NUM_PREPROCESSING_WORKERS = 2"
   ]
  },
  {
   "cell_type": "code",
   "execution_count": 2,
   "id": "50775964",
   "metadata": {},
   "outputs": [],
   "source": [
    "from sklearn.decomposition import PCA\n",
    "import torch\n",
    "import matplotlib.pyplot as plt"
   ]
  },
  {
   "cell_type": "code",
   "execution_count": 3,
   "id": "4c4b8b67",
   "metadata": {},
   "outputs": [],
   "source": [
    "def get_tensor(word):\n",
    "    return torch.tensor(tokenizer(word)['input_ids'][1])"
   ]
  },
  {
   "cell_type": "code",
   "execution_count": 4,
   "id": "1460904f",
   "metadata": {},
   "outputs": [],
   "source": [
    "def get_embedding(word):\n",
    "    tensor = get_tensor(word)\n",
    "    return embeddings(tensor).detach()"
   ]
  },
  {
   "cell_type": "code",
   "execution_count": 5,
   "id": "242df296",
   "metadata": {},
   "outputs": [],
   "source": [
    "def get_embedding_matrix(words):\n",
    "    res = []\n",
    "    for word in words:\n",
    "        res.append(get_embedding(word))\n",
    "    return torch.stack(res).numpy()"
   ]
  },
  {
   "cell_type": "code",
   "execution_count": 8,
   "id": "20cfed8f",
   "metadata": {},
   "outputs": [],
   "source": [
    "temp_words = ['hot', 'warm', 'cool', 'cold']"
   ]
  },
  {
   "cell_type": "code",
   "execution_count": 26,
   "id": "53f2725b",
   "metadata": {},
   "outputs": [],
   "source": [
    "intelligence_words = ['intelligent', 'smart', 'clever', 'dumb', 'stupid', 'idiotic']"
   ]
  },
  {
   "cell_type": "code",
   "execution_count": 23,
   "id": "c485311f",
   "metadata": {},
   "outputs": [],
   "source": [
    "other_words = ['arbitrary', 'random', 'friendly', 'angry', 'goat', 'australia', 'billion']"
   ]
  },
  {
   "cell_type": "code",
   "execution_count": 27,
   "id": "2f8562ec",
   "metadata": {},
   "outputs": [],
   "source": [
    "words = temp_words+other_words+intelligence_words"
   ]
  },
  {
   "cell_type": "markdown",
   "id": "2f84f8c3",
   "metadata": {},
   "source": [
    "# model - antoynm-negation2"
   ]
  },
  {
   "cell_type": "code",
   "execution_count": 28,
   "id": "b05a1f42",
   "metadata": {},
   "outputs": [],
   "source": [
    "# model pipeline (includes tokenization)\n",
    "mp = pipeline(\"question-answering\", model='experiments/antonym-negation2/model/', )"
   ]
  },
  {
   "cell_type": "code",
   "execution_count": 29,
   "id": "8ed12380",
   "metadata": {},
   "outputs": [],
   "source": [
    "tokenizer = mp.tokenizer\n",
    "model = mp.model\n",
    "embeddings = model.get_input_embeddings()"
   ]
  },
  {
   "cell_type": "code",
   "execution_count": 30,
   "id": "46b75aff",
   "metadata": {},
   "outputs": [
    {
     "data": {
      "text/plain": [
       "PCA(n_components=2)"
      ]
     },
     "execution_count": 30,
     "metadata": {},
     "output_type": "execute_result"
    }
   ],
   "source": [
    "X = get_embedding_matrix(words)\n",
    "pca = PCA(n_components=2)\n",
    "pca.fit(X)"
   ]
  },
  {
   "cell_type": "code",
   "execution_count": 31,
   "id": "fc386ca0",
   "metadata": {},
   "outputs": [
    {
     "data": {
      "text/plain": [
       "<matplotlib.legend.Legend at 0x7f978c018ee0>"
      ]
     },
     "execution_count": 31,
     "metadata": {},
     "output_type": "execute_result"
    },
    {
     "data": {
      "image/png": "[encoded data removed]",
      "text/plain": [
       "<Figure size 432x288 with 1 Axes>"
      ]
     },
     "metadata": {
      "needs_background": "light"
     },
     "output_type": "display_data"
    }
   ],
   "source": [
    "temp_colors = ['red', 'orange', 'gold', 'green']\n",
    "for i, word in enumerate(temp_words):\n",
    "    t = pca.transform(get_embedding_matrix([word]))\n",
    "    plt.scatter(t[:,0], t[:,1], c=temp_colors[i], label=word)\n",
    "others = pca.transform(get_embedding_matrix(other_words))\n",
    "plt.scatter(others[:,0], others[:,1], c='k', label='misc')\n",
    "plt.title('Trained on QA only: Squad+Antonyms dataset')\n",
    "plt.legend()"
   ]
  },
  {
   "cell_type": "code",
   "execution_count": 16,
   "id": "87121980",
   "metadata": {},
   "outputs": [
    {
     "data": {
      "text/plain": [
       "<matplotlib.legend.Legend at 0x7f978f6b6fd0>"
      ]
     },
     "execution_count": 16,
     "metadata": {},
     "output_type": "execute_result"
    },
    {
     "data": {
      "image/png": "[encoded data removed]",
      "text/plain": [
       "<Figure size 432x288 with 1 Axes>"
      ]
     },
     "metadata": {
      "needs_background": "light"
     },
     "output_type": "display_data"
    }
   ],
   "source": [
    "colors = ['purple', 'red', 'orange', 'gold', 'yellow', 'green']\n",
    "for i, word in enumerate(intelligence_words):\n",
    "    t = pca.transform(get_embedding_matrix([word]))\n",
    "    plt.scatter(t[:,0], t[:,1], c=temp_colors[i], label=word)\n",
    "others = pca.transform(get_embedding_matrix(other_words))\n",
    "plt.scatter(others[:,0], others[:,1], c='k', label='misc')\n",
    "plt.title('Trained on QA only: Squad+Antonyms dataset')\n",
    "plt.legend()"
   ]
  },
  {
   "cell_type": "code",
   "execution_count": null,
   "id": "11129968",
   "metadata": {},
   "outputs": [],
   "source": []
  },
  {
   "cell_type": "markdown",
   "id": "476bc5b9",
   "metadata": {},
   "source": [
    "# model - trained on mlm antonyms"
   ]
  },
  {
   "cell_type": "code",
   "execution_count": 18,
   "id": "f6e40fdb",
   "metadata": {},
   "outputs": [],
   "source": [
    "# model pipeline (includes tokenization)\n",
    "mp = pipeline(\"question-answering\", model='experiments/mlm_both_plus_qa_both/model/', )"
   ]
  },
  {
   "cell_type": "code",
   "execution_count": 19,
   "id": "94750902",
   "metadata": {},
   "outputs": [],
   "source": [
    "tokenizer = mp.tokenizer\n",
    "model = mp.model\n",
    "embeddings = model.get_input_embeddings()"
   ]
  },
  {
   "cell_type": "code",
   "execution_count": 20,
   "id": "61266272",
   "metadata": {},
   "outputs": [
    {
     "data": {
      "text/plain": [
       "PCA(n_components=2)"
      ]
     },
     "execution_count": 20,
     "metadata": {},
     "output_type": "execute_result"
    }
   ],
   "source": [
    "X = get_embedding_matrix(words)\n",
    "pca = PCA(n_components=2)\n",
    "pca.fit(X)"
   ]
  },
  {
   "cell_type": "code",
   "execution_count": 21,
   "id": "9b973a60",
   "metadata": {},
   "outputs": [
    {
     "data": {
      "text/plain": [
       "<matplotlib.legend.Legend at 0x7f978c0e4040>"
      ]
     },
     "execution_count": 21,
     "metadata": {},
     "output_type": "execute_result"
    },
    {
     "data": {
      "image/png": "[encoded data removed]",
      "text/plain": [
       "<Figure size 432x288 with 1 Axes>"
      ]
     },
     "metadata": {
      "needs_background": "light"
     },
     "output_type": "display_data"
    }
   ],
   "source": [
    "temp_colors = ['red', 'orange', 'gold', 'green']\n",
    "for i, word in enumerate(temp_words):\n",
    "    t = pca.transform(get_embedding_matrix([word]))\n",
    "    plt.scatter(t[:,0], t[:,1], c=temp_colors[i], label=word)\n",
    "others = pca.transform(get_embedding_matrix(other_words))\n",
    "plt.scatter(others[:,0], others[:,1], c='k', label='misc')\n",
    "plt.title('Trained on QA only: Squad+Antonyms dataset')\n",
    "plt.legend()"
   ]
  },
  {
   "cell_type": "code",
   "execution_count": null,
   "id": "ee21fafb",
   "metadata": {},
   "outputs": [],
   "source": []
  }
 ],
 "metadata": {
  "kernelspec": {
   "display_name": "nlp",
   "language": "python",
   "name": "nlp"
  },
  "language_info": {
   "codemirror_mode": {
    "name": "ipython",
    "version": 3
   },
   "file_extension": ".py",
   "mimetype": "text/x-python",
   "name": "python",
   "nbconvert_exporter": "python",
   "pygments_lexer": "ipython3",
   "version": "3.8.10"
  }
 },
 "nbformat": 4,
 "nbformat_minor": 5
}
