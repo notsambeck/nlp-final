{
 "cells": [
  {
   "cell_type": "markdown",
   "id": "275c34b1",
   "metadata": {},
   "source": [
    "# Visualizing embeddings\n"
   ]
  },
  {
   "cell_type": "code",
   "execution_count": 1,
   "id": "244d4dbc",
   "metadata": {},
   "outputs": [],
   "source": [
    "import datasets\n",
    "from transformers import AutoTokenizer, AutoModelForSequenceClassification, \\\n",
    "    AutoModelForQuestionAnswering, Trainer, TrainingArguments, HfArgumentParser, pipeline\n",
    "from helpers import prepare_dataset_nli, prepare_train_dataset_qa, \\\n",
    "    prepare_validation_dataset_qa, QuestionAnsweringTrainer, compute_accuracy\n",
    "import os\n",
    "import json\n",
    "\n",
    "NUM_PREPROCESSING_WORKERS = 2"
   ]
  },
  {
   "cell_type": "code",
   "execution_count": 2,
   "id": "4e1a2fe1",
   "metadata": {},
   "outputs": [],
   "source": [
    "from sklearn.decomposition import PCA\n",
    "import torch\n",
    "import matplotlib.pyplot as plt"
   ]
  },
  {
   "cell_type": "code",
   "execution_count": 3,
   "id": "7d41deeb",
   "metadata": {},
   "outputs": [],
   "source": [
    "def get_tensor(word):\n",
    "    return torch.tensor(tokenizer(word)['input_ids'][1])"
   ]
  },
  {
   "cell_type": "code",
   "execution_count": 4,
   "id": "d6b8f1dc",
   "metadata": {},
   "outputs": [],
   "source": [
    "def get_embedding(word):\n",
    "    tensor = get_tensor(word)\n",
    "    return embeddings(tensor).detach()"
   ]
  },
  {
   "cell_type": "code",
   "execution_count": 5,
   "id": "bd3f6f97",
   "metadata": {},
   "outputs": [],
   "source": [
    "def get_embedding_matrix(words):\n",
    "    res = []\n",
    "    for word in words:\n",
    "        res.append(get_embedding(word))\n",
    "    return torch.stack(res).numpy()"
   ]
  },
  {
   "cell_type": "code",
   "execution_count": 8,
   "id": "1e3cfcc2",
   "metadata": {},
   "outputs": [],
   "source": [
    "temp_words = ['hot', 'warm', 'cool', 'cold']"
   ]
  },
  {
   "cell_type": "code",
   "execution_count": 26,
   "id": "037a7766",
   "metadata": {},
   "outputs": [],
   "source": [
    "intelligence_words = ['intelligent', 'smart', 'clever', 'dumb', 'stupid', 'idiotic']"
   ]
  },
  {
   "cell_type": "code",
   "execution_count": null,
   "id": "16bb2841",
   "metadata": {},
   "outputs": [],
   "source": []
  },
  {
   "cell_type": "code",
   "execution_count": 39,
   "id": "88887f37",
   "metadata": {},
   "outputs": [],
   "source": [
    "other_words = ['arbitrary', 'random', 'friendly', 'angry', 'goat', 'australia', 'billion', 'hunger', 'asbestos']"
   ]
  },
  {
   "cell_type": "code",
   "execution_count": 40,
   "id": "ccaf419a",
   "metadata": {},
   "outputs": [],
   "source": [
    "words = temp_words+other_words+intelligence_words"
   ]
  },
  {
   "cell_type": "code",
   "execution_count": 77,
   "id": "e5a49353",
   "metadata": {},
   "outputs": [],
   "source": [
    "def similarity(wordset):\n",
    "    print(wordset)\n",
    "    for i, word1 in enumerate(wordset):\n",
    "        for word2 in wordset[i+1:]:\n",
    "            print(f'{word1} vs {word2}')\n",
    "            print('distance', torch.norm(get_embedding(word1) - get_embedding(word2)))\n",
    "            print('similarity', torch.dot(get_embedding(word1), get_embedding(word2)))\n",
    "            print()"
   ]
  },
  {
   "cell_type": "markdown",
   "id": "7dddeeeb",
   "metadata": {},
   "source": [
    "# model - antoynm-negation2"
   ]
  },
  {
   "cell_type": "code",
   "execution_count": 78,
   "id": "b05a1f42",
   "metadata": {},
   "outputs": [],
   "source": [
    "# model pipeline (includes tokenization)\n",
    "mp = pipeline(\"question-answering\", model='experiments/antonym-negation2/model/', )"
   ]
  },
  {
   "cell_type": "code",
   "execution_count": 79,
   "id": "8ed12380",
   "metadata": {},
   "outputs": [],
   "source": [
    "tokenizer = mp.tokenizer\n",
    "model = mp.model\n",
    "embeddings = model.get_input_embeddings()"
   ]
  },
  {
   "cell_type": "code",
   "execution_count": 80,
   "id": "46b75aff",
   "metadata": {},
   "outputs": [
    {
     "data": {
      "text/plain": [
       "PCA(n_components=2)"
      ]
     },
     "execution_count": 80,
     "metadata": {},
     "output_type": "execute_result"
    }
   ],
   "source": [
    "X = get_embedding_matrix(words)\n",
    "pca = PCA(n_components=2)\n",
    "pca.fit(X)"
   ]
  },
  {
   "cell_type": "code",
   "execution_count": 81,
   "id": "8ebdfed0",
   "metadata": {},
   "outputs": [
    {
     "data": {
      "text/plain": [
       "<matplotlib.legend.Legend at 0x7f977712f490>"
      ]
     },
     "execution_count": 81,
     "metadata": {},
     "output_type": "execute_result"
    },
    {
     "data": {
      "image/png": "[encoded data removed]",
      "text/plain": [
       "<Figure size 432x288 with 1 Axes>"
      ]
     },
     "metadata": {
      "needs_background": "light"
     },
     "output_type": "display_data"
    }
   ],
   "source": [
    "temp_colors = ['red', 'orange', 'gold', 'green']\n",
    "for i, word in enumerate(temp_words):\n",
    "    t = pca.transform(get_embedding_matrix([word]))\n",
    "    plt.scatter(t[:,0], t[:,1], c=temp_colors[i], label=word)\n",
    "others = pca.transform(get_embedding_matrix(other_words))\n",
    "plt.scatter(others[:,0], others[:,1], c='k', label='misc')\n",
    "plt.title('Trained on QA only: Squad+Antonyms dataset')\n",
    "plt.legend()"
   ]
  },
  {
   "cell_type": "code",
   "execution_count": 89,
   "id": "879457f0",
   "metadata": {},
   "outputs": [
    {
     "data": {
      "text/plain": [
       "<matplotlib.legend.Legend at 0x7f97927594f0>"
      ]
     },
     "execution_count": 89,
     "metadata": {},
     "output_type": "execute_result"
    },
    {
     "data": {
      "image/png": "[encoded data removed]",
      "text/plain": [
       "<Figure size 432x288 with 1 Axes>"
      ]
     },
     "metadata": {
      "needs_background": "light"
     },
     "output_type": "display_data"
    }
   ],
   "source": [
    "temp_colors = ['red', 'orange', 'gold', 'green']\n",
    "pca.fit(get_embedding_matrix(temp_words))\n",
    "for i, word in enumerate(temp_words):\n",
    "    t = pca.transform(get_embedding_matrix([word]))\n",
    "    plt.scatter(t[:,0], t[:,1], c=temp_colors[i], label=word)\n",
    "plt.scatter(others[:,0], others[:,1], c='k', label='misc')\n",
    "plt.title('Trained on QA only: Squad+Antonyms dataset')\n",
    "plt.legend()"
   ]
  },
  {
   "cell_type": "code",
   "execution_count": 82,
   "id": "1bf6c7e5",
   "metadata": {},
   "outputs": [
    {
     "data": {
      "text/plain": [
       "<matplotlib.legend.Legend at 0x7f9777178ee0>"
      ]
     },
     "execution_count": 82,
     "metadata": {},
     "output_type": "execute_result"
    },
    {
     "data": {
      "image/png": "[encoded data removed]",
      "text/plain": [
       "<Figure size 432x288 with 1 Axes>"
      ]
     },
     "metadata": {
      "needs_background": "light"
     },
     "output_type": "display_data"
    }
   ],
   "source": [
    "colors = ['purple', 'red', 'orange', 'gold', 'yellow', 'green']\n",
    "for i, word in enumerate(intelligence_words):\n",
    "    t = pca.transform(get_embedding_matrix([word]))\n",
    "    plt.scatter(t[:,0], t[:,1], c=colors[i], label=word)\n",
    "others = pca.transform(get_embedding_matrix(other_words))\n",
    "plt.scatter(others[:,0], others[:,1], c='k', label='misc')\n",
    "plt.title('Trained on QA only: Squad+Antonyms dataset')\n",
    "plt.legend()"
   ]
  },
  {
   "cell_type": "code",
   "execution_count": 90,
   "id": "976bac1f",
   "metadata": {},
   "outputs": [
    {
     "data": {
      "text/plain": [
       "<matplotlib.legend.Legend at 0x7f9776df48b0>"
      ]
     },
     "execution_count": 90,
     "metadata": {},
     "output_type": "execute_result"
    },
    {
     "data": {
      "image/png": "[encoded data removed]",
      "text/plain": [
       "<Figure size 432x288 with 1 Axes>"
      ]
     },
     "metadata": {
      "needs_background": "light"
     },
     "output_type": "display_data"
    }
   ],
   "source": [
    "colors = ['purple', 'red', 'orange', 'gold', 'yellow', 'green']\n",
    "pca.fit(get_embedding_matrix(intelligence_words))\n",
    "for i, word in enumerate(intelligence_words):\n",
    "    t = pca.transform(get_embedding_matrix([word]))\n",
    "    plt.scatter(t[:,0], t[:,1], c=colors[i], label=word)\n",
    "others = pca.transform(get_embedding_matrix(other_words))\n",
    "plt.scatter(others[:,0], others[:,1], c='k', label='misc')\n",
    "plt.title('Trained on QA only: Squad+Antonyms dataset')\n",
    "plt.legend()"
   ]
  },
  {
   "cell_type": "code",
   "execution_count": 83,
   "id": "beec67a7",
   "metadata": {},
   "outputs": [
    {
     "name": "stdout",
     "output_type": "stream",
     "text": [
      "['hot', 'warm', 'cool', 'cold']\n",
      "hot vs warm\n",
      "distance tensor(0.6426)\n",
      "similarity tensor(0.1929)\n",
      "\n",
      "hot vs cool\n",
      "distance tensor(0.6545)\n",
      "similarity tensor(0.1771)\n",
      "\n",
      "hot vs cold\n",
      "distance tensor(0.6604)\n",
      "similarity tensor(0.1750)\n",
      "\n",
      "warm vs cool\n",
      "distance tensor(0.6178)\n",
      "similarity tensor(0.1914)\n",
      "\n",
      "warm vs cold\n",
      "distance tensor(0.6092)\n",
      "similarity tensor(0.1984)\n",
      "\n",
      "cool vs cold\n",
      "distance tensor(0.6522)\n",
      "similarity tensor(0.1632)\n",
      "\n"
     ]
    }
   ],
   "source": [
    "similarity(temp_words)"
   ]
  },
  {
   "cell_type": "code",
   "execution_count": 84,
   "id": "f0655fe0",
   "metadata": {},
   "outputs": [
    {
     "name": "stdout",
     "output_type": "stream",
     "text": [
      "['intelligent', 'smart', 'clever', 'dumb', 'stupid', 'idiotic']\n",
      "intelligent vs smart\n",
      "distance tensor(0.5478)\n",
      "similarity tensor(0.2167)\n",
      "\n",
      "intelligent vs clever\n",
      "distance tensor(0.6123)\n",
      "similarity tensor(0.1620)\n",
      "\n",
      "intelligent vs dumb\n",
      "distance tensor(0.7352)\n",
      "similarity tensor(0.1193)\n",
      "\n",
      "intelligent vs stupid\n",
      "distance tensor(0.7283)\n",
      "similarity tensor(0.0939)\n",
      "\n",
      "intelligent vs idiotic\n",
      "distance tensor(0.7308)\n",
      "similarity tensor(0.1046)\n",
      "\n",
      "smart vs clever\n",
      "distance tensor(0.5534)\n",
      "similarity tensor(0.2024)\n",
      "\n",
      "smart vs dumb\n",
      "distance tensor(0.6243)\n",
      "similarity tensor(0.2007)\n",
      "\n",
      "smart vs stupid\n",
      "distance tensor(0.6895)\n",
      "similarity tensor(0.1275)\n",
      "\n",
      "smart vs idiotic\n",
      "distance tensor(0.7787)\n",
      "similarity tensor(0.0745)\n",
      "\n",
      "clever vs dumb\n",
      "distance tensor(0.6856)\n",
      "similarity tensor(0.1433)\n",
      "\n",
      "clever vs stupid\n",
      "distance tensor(0.6235)\n",
      "similarity tensor(0.1535)\n",
      "\n",
      "clever vs idiotic\n",
      "distance tensor(0.7391)\n",
      "similarity tensor(0.0873)\n",
      "\n",
      "dumb vs stupid\n",
      "distance tensor(0.5281)\n",
      "similarity tensor(0.2485)\n",
      "\n",
      "dumb vs idiotic\n",
      "distance tensor(0.7187)\n",
      "similarity tensor(0.1422)\n",
      "\n",
      "stupid vs idiotic\n",
      "distance tensor(0.5760)\n",
      "similarity tensor(0.2042)\n",
      "\n"
     ]
    }
   ],
   "source": [
    "similarity(intelligence_words)"
   ]
  },
  {
   "cell_type": "markdown",
   "id": "a02e1e21",
   "metadata": {},
   "source": [
    "# model - trained on mlm antonyms"
   ]
  },
  {
   "cell_type": "code",
   "execution_count": 46,
   "id": "d6e372d3",
   "metadata": {},
   "outputs": [],
   "source": [
    "# model pipeline (includes tokenization)\n",
    "mp = pipeline(\"question-answering\", model='experiments/mlm_both_plus_qa_both/model/', )"
   ]
  },
  {
   "cell_type": "code",
   "execution_count": 47,
   "id": "c2642b3d",
   "metadata": {},
   "outputs": [],
   "source": [
    "tokenizer = mp.tokenizer\n",
    "model = mp.model\n",
    "embeddings = model.get_input_embeddings()"
   ]
  },
  {
   "cell_type": "code",
   "execution_count": 91,
   "id": "7f1b7d2e",
   "metadata": {},
   "outputs": [
    {
     "data": {
      "text/plain": [
       "PCA(n_components=2)"
      ]
     },
     "execution_count": 91,
     "metadata": {},
     "output_type": "execute_result"
    }
   ],
   "source": [
    "X = get_embedding_matrix(words)\n",
    "pca = PCA(n_components=2)\n",
    "pca.fit(X)"
   ]
  },
  {
   "cell_type": "code",
   "execution_count": 92,
   "id": "65e15fb5",
   "metadata": {},
   "outputs": [
    {
     "data": {
      "text/plain": [
       "<matplotlib.legend.Legend at 0x7f9776dfbe80>"
      ]
     },
     "execution_count": 92,
     "metadata": {},
     "output_type": "execute_result"
    },
    {
     "data": {
      "image/png": "[encoded data removed]",
      "text/plain": [
       "<Figure size 432x288 with 1 Axes>"
      ]
     },
     "metadata": {
      "needs_background": "light"
     },
     "output_type": "display_data"
    }
   ],
   "source": [
    "temp_colors = ['red', 'orange', 'gold', 'green']\n",
    "for i, word in enumerate(temp_words):\n",
    "    t = pca.transform(get_embedding_matrix([word]))\n",
    "    plt.scatter(t[:,0], t[:,1], c=temp_colors[i], label=word)\n",
    "others = pca.transform(get_embedding_matrix(other_words))\n",
    "plt.scatter(others[:,0], others[:,1], c='k', label='misc')\n",
    "plt.title('Trained on QA only: Squad+Antonyms dataset')\n",
    "plt.legend()"
   ]
  },
  {
   "cell_type": "code",
   "execution_count": 93,
   "id": "c0a90e90",
   "metadata": {},
   "outputs": [
    {
     "data": {
      "text/plain": [
       "<matplotlib.legend.Legend at 0x7f9776ddc160>"
      ]
     },
     "execution_count": 93,
     "metadata": {},
     "output_type": "execute_result"
    },
    {
     "data": {
      "image/png": "[encoded data removed]",
      "text/plain": [
       "<Figure size 432x288 with 1 Axes>"
      ]
     },
     "metadata": {
      "needs_background": "light"
     },
     "output_type": "display_data"
    }
   ],
   "source": [
    "temp_colors = ['red', 'orange', 'gold', 'green']\n",
    "pca.fit(get_embedding_matrix(temp_words))\n",
    "for i, word in enumerate(temp_words):\n",
    "    t = pca.transform(get_embedding_matrix([word]))\n",
    "    plt.scatter(t[:,0], t[:,1], c=temp_colors[i], label=word)\n",
    "plt.scatter(others[:,0], others[:,1], c='k', label='misc')\n",
    "plt.title('Trained on QA only: Squad+Antonyms dataset')\n",
    "plt.legend()"
   ]
  },
  {
   "cell_type": "code",
   "execution_count": 94,
   "id": "8056e4fe",
   "metadata": {},
   "outputs": [
    {
     "data": {
      "text/plain": [
       "<matplotlib.legend.Legend at 0x7f9776c3f820>"
      ]
     },
     "execution_count": 94,
     "metadata": {},
     "output_type": "execute_result"
    },
    {
     "data": {
      "image/png": "[encoded data removed]",
      "text/plain": [
       "<Figure size 432x288 with 1 Axes>"
      ]
     },
     "metadata": {
      "needs_background": "light"
     },
     "output_type": "display_data"
    }
   ],
   "source": [
    "colors = ['purple', 'red', 'orange', 'gold', 'yellow', 'green']\n",
    "for i, word in enumerate(intelligence_words):\n",
    "    t = pca.transform(get_embedding_matrix([word]))\n",
    "    plt.scatter(t[:,0], t[:,1], c=colors[i], label=word)\n",
    "others = pca.transform(get_embedding_matrix(other_words))\n",
    "plt.scatter(others[:,0], others[:,1], c='k', label='misc')\n",
    "plt.title('Trained on QA only: Squad+Antonyms dataset')\n",
    "plt.legend()"
   ]
  },
  {
   "cell_type": "code",
   "execution_count": 95,
   "id": "01973455",
   "metadata": {},
   "outputs": [
    {
     "data": {
      "text/plain": [
       "<matplotlib.legend.Legend at 0x7f9776c6ef10>"
      ]
     },
     "execution_count": 95,
     "metadata": {},
     "output_type": "execute_result"
    },
    {
     "data": {
      "image/png": "[encoded data removed]",
      "text/plain": [
       "<Figure size 432x288 with 1 Axes>"
      ]
     },
     "metadata": {
      "needs_background": "light"
     },
     "output_type": "display_data"
    }
   ],
   "source": [
    "colors = ['purple', 'red', 'orange', 'gold', 'yellow', 'green']\n",
    "pca.fit(get_embedding_matrix(intelligence_words))\n",
    "for i, word in enumerate(intelligence_words):\n",
    "    t = pca.transform(get_embedding_matrix([word]))\n",
    "    plt.scatter(t[:,0], t[:,1], c=colors[i], label=word)\n",
    "others = pca.transform(get_embedding_matrix(other_words))\n",
    "plt.scatter(others[:,0], others[:,1], c='k', label='misc')\n",
    "plt.title('Trained on QA only: Squad+Antonyms dataset')\n",
    "plt.legend()"
   ]
  },
  {
   "cell_type": "code",
   "execution_count": 96,
   "id": "11f12277",
   "metadata": {},
   "outputs": [
    {
     "name": "stdout",
     "output_type": "stream",
     "text": [
      "['hot', 'warm', 'cool', 'cold']\n",
      "hot vs warm\n",
      "distance tensor(0.6426)\n",
      "similarity tensor(0.1929)\n",
      "\n",
      "hot vs cool\n",
      "distance tensor(0.6545)\n",
      "similarity tensor(0.1771)\n",
      "\n",
      "hot vs cold\n",
      "distance tensor(0.6604)\n",
      "similarity tensor(0.1750)\n",
      "\n",
      "warm vs cool\n",
      "distance tensor(0.6178)\n",
      "similarity tensor(0.1914)\n",
      "\n",
      "warm vs cold\n",
      "distance tensor(0.6092)\n",
      "similarity tensor(0.1984)\n",
      "\n",
      "cool vs cold\n",
      "distance tensor(0.6522)\n",
      "similarity tensor(0.1632)\n",
      "\n"
     ]
    }
   ],
   "source": [
    "similarity(temp_words)"
   ]
  },
  {
   "cell_type": "code",
   "execution_count": 97,
   "id": "aa659406",
   "metadata": {},
   "outputs": [
    {
     "name": "stdout",
     "output_type": "stream",
     "text": [
      "['intelligent', 'smart', 'clever', 'dumb', 'stupid', 'idiotic']\n",
      "intelligent vs smart\n",
      "distance tensor(0.5478)\n",
      "similarity tensor(0.2167)\n",
      "\n",
      "intelligent vs clever\n",
      "distance tensor(0.6123)\n",
      "similarity tensor(0.1620)\n",
      "\n",
      "intelligent vs dumb\n",
      "distance tensor(0.7352)\n",
      "similarity tensor(0.1193)\n",
      "\n",
      "intelligent vs stupid\n",
      "distance tensor(0.7283)\n",
      "similarity tensor(0.0939)\n",
      "\n",
      "intelligent vs idiotic\n",
      "distance tensor(0.7308)\n",
      "similarity tensor(0.1046)\n",
      "\n",
      "smart vs clever\n",
      "distance tensor(0.5534)\n",
      "similarity tensor(0.2024)\n",
      "\n",
      "smart vs dumb\n",
      "distance tensor(0.6243)\n",
      "similarity tensor(0.2007)\n",
      "\n",
      "smart vs stupid\n",
      "distance tensor(0.6895)\n",
      "similarity tensor(0.1275)\n",
      "\n",
      "smart vs idiotic\n",
      "distance tensor(0.7787)\n",
      "similarity tensor(0.0745)\n",
      "\n",
      "clever vs dumb\n",
      "distance tensor(0.6856)\n",
      "similarity tensor(0.1433)\n",
      "\n",
      "clever vs stupid\n",
      "distance tensor(0.6235)\n",
      "similarity tensor(0.1535)\n",
      "\n",
      "clever vs idiotic\n",
      "distance tensor(0.7391)\n",
      "similarity tensor(0.0873)\n",
      "\n",
      "dumb vs stupid\n",
      "distance tensor(0.5281)\n",
      "similarity tensor(0.2485)\n",
      "\n",
      "dumb vs idiotic\n",
      "distance tensor(0.7187)\n",
      "similarity tensor(0.1422)\n",
      "\n",
      "stupid vs idiotic\n",
      "distance tensor(0.5760)\n",
      "similarity tensor(0.2042)\n",
      "\n"
     ]
    }
   ],
   "source": [
    "similarity(intelligence_words)"
   ]
  },
  {
   "cell_type": "code",
   "execution_count": null,
   "id": "81dfa4f4",
   "metadata": {},
   "outputs": [],
   "source": []
  }
 ],
 "metadata": {
  "kernelspec": {
   "display_name": "nlp",
   "language": "python",
   "name": "nlp"
  },
  "language_info": {
   "codemirror_mode": {
    "name": "ipython",
    "version": 3
   },
   "file_extension": ".py",
   "mimetype": "text/x-python",
   "name": "python",
   "nbconvert_exporter": "python",
   "pygments_lexer": "ipython3",
   "version": "3.8.10"
  }
 },
 "nbformat": 4,
 "nbformat_minor": 5
}
