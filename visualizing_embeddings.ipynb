{
 "cells": [
  {
   "cell_type": "markdown",
   "id": "275c34b1",
   "metadata": {},
   "source": [
    "# Visualizing embeddings\n"
   ]
  },
  {
   "cell_type": "code",
   "execution_count": 1,
   "id": "244d4dbc",
   "metadata": {},
   "outputs": [],
   "source": [
    "import datasets\n",
    "from transformers import AutoTokenizer, AutoModelForSequenceClassification, \\\n",
    "    AutoModelForQuestionAnswering, Trainer, TrainingArguments, HfArgumentParser, pipeline\n",
    "from helpers import prepare_dataset_nli, prepare_train_dataset_qa, \\\n",
    "    prepare_validation_dataset_qa, QuestionAnsweringTrainer, compute_accuracy\n",
    "import os\n",
    "import json\n",
    "\n",
    "NUM_PREPROCESSING_WORKERS = 2"
   ]
  },
  {
   "cell_type": "code",
   "execution_count": 2,
   "id": "4e1a2fe1",
   "metadata": {},
   "outputs": [],
   "source": [
    "from sklearn.decomposition import PCA\n",
    "import torch\n",
    "import matplotlib.pyplot as plt"
   ]
  },
  {
   "cell_type": "code",
   "execution_count": 3,
   "id": "7d41deeb",
   "metadata": {},
   "outputs": [],
   "source": [
    "def get_tensor(word):\n",
    "    return torch.tensor(tokenizer(word)['input_ids'][1])"
   ]
  },
  {
   "cell_type": "code",
   "execution_count": 4,
   "id": "d6b8f1dc",
   "metadata": {},
   "outputs": [],
   "source": [
    "def get_embedding(word):\n",
    "    tensor = get_tensor(word)\n",
    "    return embeddings(tensor).detach()"
   ]
  },
  {
   "cell_type": "code",
   "execution_count": 5,
   "id": "bd3f6f97",
   "metadata": {},
   "outputs": [],
   "source": [
    "def get_embedding_matrix(words):\n",
    "    res = []\n",
    "    for word in words:\n",
    "        res.append(get_embedding(word))\n",
    "    return torch.stack(res).numpy()"
   ]
  },
  {
   "cell_type": "code",
   "execution_count": 8,
   "id": "1e3cfcc2",
   "metadata": {},
   "outputs": [],
   "source": [
    "temp_words = ['hot', 'warm', 'cool', 'cold']"
   ]
  },
  {
   "cell_type": "code",
   "execution_count": 26,
   "id": "037a7766",
   "metadata": {},
   "outputs": [],
   "source": [
    "intelligence_words = ['intelligent', 'smart', 'clever', 'dumb', 'stupid', 'idiotic']"
   ]
  },
  {
   "cell_type": "code",
   "execution_count": null,
   "id": "16bb2841",
   "metadata": {},
   "outputs": [],
   "source": []
  },
  {
   "cell_type": "code",
   "execution_count": 39,
   "id": "88887f37",
   "metadata": {},
   "outputs": [],
   "source": [
    "other_words = ['arbitrary', 'random', 'friendly', 'angry', 'goat', 'australia', 'billion', 'hunger', 'asbestos']"
   ]
  },
  {
   "cell_type": "code",
   "execution_count": 40,
   "id": "ccaf419a",
   "metadata": {},
   "outputs": [],
   "source": [
    "words = temp_words+other_words+intelligence_words"
   ]
  },
  {
   "cell_type": "markdown",
   "id": "7dddeeeb",
   "metadata": {},
   "source": [
    "# model - antoynm-negation2"
   ]
  },
  {
   "cell_type": "code",
   "execution_count": 61,
   "id": "b05a1f42",
   "metadata": {},
   "outputs": [],
   "source": [
    "# model pipeline (includes tokenization)\n",
    "mp = pipeline(\"question-answering\", model='experiments/antonym-negation2/model/', )"
   ]
  },
  {
   "cell_type": "code",
   "execution_count": 62,
   "id": "8ed12380",
   "metadata": {},
   "outputs": [],
   "source": [
    "tokenizer = mp.tokenizer\n",
    "model = mp.model\n",
    "embeddings = model.get_input_embeddings()"
   ]
  },
  {
   "cell_type": "code",
   "execution_count": 63,
   "id": "46b75aff",
   "metadata": {},
   "outputs": [
    {
     "data": {
      "text/plain": [
       "PCA(n_components=2)"
      ]
     },
     "execution_count": 63,
     "metadata": {},
     "output_type": "execute_result"
    }
   ],
   "source": [
    "X = get_embedding_matrix(words)\n",
    "pca = PCA(n_components=2)\n",
    "pca.fit(X)"
   ]
  },
  {
   "cell_type": "code",
   "execution_count": 64,
   "id": "8ebdfed0",
   "metadata": {},
   "outputs": [
    {
     "data": {
      "text/plain": [
       "<matplotlib.legend.Legend at 0x7f97771ebdf0>"
      ]
     },
     "execution_count": 64,
     "metadata": {},
     "output_type": "execute_result"
    },
    {
     "data": {
      "image/png": "[encoded data removed]",
      "text/plain": [
       "<Figure size 432x288 with 1 Axes>"
      ]
     },
     "metadata": {
      "needs_background": "light"
     },
     "output_type": "display_data"
    }
   ],
   "source": [
    "temp_colors = ['red', 'orange', 'gold', 'green']\n",
    "for i, word in enumerate(temp_words):\n",
    "    t = pca.transform(get_embedding_matrix([word]))\n",
    "    plt.scatter(t[:,0], t[:,1], c=temp_colors[i], label=word)\n",
    "others = pca.transform(get_embedding_matrix(other_words))\n",
    "plt.scatter(others[:,0], others[:,1], c='k', label='misc')\n",
    "plt.title('Trained on QA only: Squad+Antonyms dataset')\n",
    "plt.legend()"
   ]
  },
  {
   "cell_type": "code",
   "execution_count": 65,
   "id": "1bf6c7e5",
   "metadata": {},
   "outputs": [
    {
     "data": {
      "text/plain": [
       "<matplotlib.legend.Legend at 0x7f977716c220>"
      ]
     },
     "execution_count": 65,
     "metadata": {},
     "output_type": "execute_result"
    },
    {
     "data": {
      "image/png": "[encoded data removed]",
      "text/plain": [
       "<Figure size 432x288 with 1 Axes>"
      ]
     },
     "metadata": {
      "needs_background": "light"
     },
     "output_type": "display_data"
    }
   ],
   "source": [
    "colors = ['purple', 'red', 'orange', 'gold', 'yellow', 'green']\n",
    "for i, word in enumerate(intelligence_words):\n",
    "    t = pca.transform(get_embedding_matrix([word]))\n",
    "    plt.scatter(t[:,0], t[:,1], c=colors[i], label=word)\n",
    "others = pca.transform(get_embedding_matrix(other_words))\n",
    "plt.scatter(others[:,0], others[:,1], c='k', label='misc')\n",
    "plt.title('Trained on QA only: Squad+Antonyms dataset')\n",
    "plt.legend()"
   ]
  },
  {
   "cell_type": "code",
   "execution_count": 66,
   "id": "462a1ff3",
   "metadata": {},
   "outputs": [
    {
     "data": {
      "text/plain": [
       "tensor(0.6243)"
      ]
     },
     "execution_count": 66,
     "metadata": {},
     "output_type": "execute_result"
    }
   ],
   "source": [
    "torch.norm(get_embedding('smart') - get_embedding('dumb'))"
   ]
  },
  {
   "cell_type": "code",
   "execution_count": 67,
   "id": "05fffa1d",
   "metadata": {},
   "outputs": [
    {
     "data": {
      "text/plain": [
       "tensor(0.7283)"
      ]
     },
     "execution_count": 67,
     "metadata": {},
     "output_type": "execute_result"
    }
   ],
   "source": [
    "torch.norm(get_embedding('intelligent') - get_embedding('stupid'))"
   ]
  },
  {
   "cell_type": "code",
   "execution_count": 68,
   "id": "356c7168",
   "metadata": {},
   "outputs": [
    {
     "data": {
      "text/plain": [
       "tensor(0.5478)"
      ]
     },
     "execution_count": 68,
     "metadata": {},
     "output_type": "execute_result"
    }
   ],
   "source": [
    "torch.norm(get_embedding('smart') - get_embedding('intelligent'))"
   ]
  },
  {
   "cell_type": "code",
   "execution_count": 69,
   "id": "89726f97",
   "metadata": {},
   "outputs": [
    {
     "data": {
      "text/plain": [
       "tensor(0.5281)"
      ]
     },
     "execution_count": 69,
     "metadata": {},
     "output_type": "execute_result"
    }
   ],
   "source": [
    "torch.norm(get_embedding('dumb') - get_embedding('stupid'))"
   ]
  },
  {
   "cell_type": "markdown",
   "id": "a02e1e21",
   "metadata": {},
   "source": [
    "# model - trained on mlm antonyms"
   ]
  },
  {
   "cell_type": "code",
   "execution_count": 46,
   "id": "d6e372d3",
   "metadata": {},
   "outputs": [],
   "source": [
    "# model pipeline (includes tokenization)\n",
    "mp = pipeline(\"question-answering\", model='experiments/mlm_both_plus_qa_both/model/', )"
   ]
  },
  {
   "cell_type": "code",
   "execution_count": 47,
   "id": "c2642b3d",
   "metadata": {},
   "outputs": [],
   "source": [
    "tokenizer = mp.tokenizer\n",
    "model = mp.model\n",
    "embeddings = model.get_input_embeddings()"
   ]
  },
  {
   "cell_type": "code",
   "execution_count": 48,
   "id": "92e4fb5b",
   "metadata": {},
   "outputs": [
    {
     "data": {
      "text/plain": [
       "PCA(n_components=2)"
      ]
     },
     "execution_count": 48,
     "metadata": {},
     "output_type": "execute_result"
    }
   ],
   "source": [
    "X = get_embedding_matrix(words)\n",
    "pca = PCA(n_components=2)\n",
    "pca.fit(X)"
   ]
  },
  {
   "cell_type": "code",
   "execution_count": 49,
   "id": "882a34b0",
   "metadata": {},
   "outputs": [
    {
     "data": {
      "text/plain": [
       "<matplotlib.legend.Legend at 0x7f9777e14760>"
      ]
     },
     "execution_count": 49,
     "metadata": {},
     "output_type": "execute_result"
    },
    {
     "data": {
      "image/png": "[encoded data removed]",
      "text/plain": [
       "<Figure size 432x288 with 1 Axes>"
      ]
     },
     "metadata": {
      "needs_background": "light"
     },
     "output_type": "display_data"
    }
   ],
   "source": [
    "temp_colors = ['red', 'orange', 'gold', 'green']\n",
    "for i, word in enumerate(temp_words):\n",
    "    t = pca.transform(get_embedding_matrix([word]))\n",
    "    plt.scatter(t[:,0], t[:,1], c=temp_colors[i], label=word)\n",
    "others = pca.transform(get_embedding_matrix(other_words))\n",
    "plt.scatter(others[:,0], others[:,1], c='k', label='misc')\n",
    "plt.title('Trained on QA only: Squad+Antonyms dataset')\n",
    "plt.legend()"
   ]
  },
  {
   "cell_type": "code",
   "execution_count": 50,
   "id": "68853782",
   "metadata": {},
   "outputs": [
    {
     "data": {
      "text/plain": [
       "<matplotlib.legend.Legend at 0x7f9777308310>"
      ]
     },
     "execution_count": 50,
     "metadata": {},
     "output_type": "execute_result"
    },
    {
     "data": {
      "image/png": "[encoded data removed]",
      "text/plain": [
       "<Figure size 432x288 with 1 Axes>"
      ]
     },
     "metadata": {
      "needs_background": "light"
     },
     "output_type": "display_data"
    }
   ],
   "source": [
    "colors = ['purple', 'red', 'orange', 'gold', 'yellow', 'green']\n",
    "for i, word in enumerate(intelligence_words):\n",
    "    t = pca.transform(get_embedding_matrix([word]))\n",
    "    plt.scatter(t[:,0], t[:,1], c=colors[i], label=word)\n",
    "others = pca.transform(get_embedding_matrix(other_words))\n",
    "plt.scatter(others[:,0], others[:,1], c='k', label='misc')\n",
    "plt.title('Trained on QA only: Squad+Antonyms dataset')\n",
    "plt.legend()"
   ]
  },
  {
   "cell_type": "code",
   "execution_count": 57,
   "id": "0ef9b396",
   "metadata": {},
   "outputs": [
    {
     "data": {
      "text/plain": [
       "tensor(0.6017)"
      ]
     },
     "execution_count": 57,
     "metadata": {},
     "output_type": "execute_result"
    }
   ],
   "source": [
    "torch.norm(get_embedding('smart') - get_embedding('dumb'))"
   ]
  },
  {
   "cell_type": "code",
   "execution_count": 60,
   "id": "5c7642b5",
   "metadata": {},
   "outputs": [
    {
     "data": {
      "text/plain": [
       "tensor(0.7028)"
      ]
     },
     "execution_count": 60,
     "metadata": {},
     "output_type": "execute_result"
    }
   ],
   "source": [
    "torch.norm(get_embedding('intelligent') - get_embedding('stupid'))"
   ]
  },
  {
   "cell_type": "code",
   "execution_count": 58,
   "id": "dc4530ef",
   "metadata": {},
   "outputs": [
    {
     "data": {
      "text/plain": [
       "tensor(0.5325)"
      ]
     },
     "execution_count": 58,
     "metadata": {},
     "output_type": "execute_result"
    }
   ],
   "source": [
    "torch.norm(get_embedding('smart') - get_embedding('intelligent'))"
   ]
  },
  {
   "cell_type": "code",
   "execution_count": 59,
   "id": "b509fbfc",
   "metadata": {},
   "outputs": [
    {
     "data": {
      "text/plain": [
       "tensor(0.5457)"
      ]
     },
     "execution_count": 59,
     "metadata": {},
     "output_type": "execute_result"
    }
   ],
   "source": [
    "torch.norm(get_embedding('dumb') - get_embedding('stupid'))"
   ]
  },
  {
   "cell_type": "code",
   "execution_count": null,
   "id": "ac0a848c",
   "metadata": {},
   "outputs": [],
   "source": []
  }
 ],
 "metadata": {
  "kernelspec": {
   "display_name": "nlp",
   "language": "python",
   "name": "nlp"
  },
  "language_info": {
   "codemirror_mode": {
    "name": "ipython",
    "version": 3
   },
   "file_extension": ".py",
   "mimetype": "text/x-python",
   "name": "python",
   "nbconvert_exporter": "python",
   "pygments_lexer": "ipython3",
   "version": "3.8.10"
  }
 },
 "nbformat": 4,
 "nbformat_minor": 5
}
