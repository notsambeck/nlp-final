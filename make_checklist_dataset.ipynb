{
 "cells": [
  {
   "cell_type": "markdown",
   "id": "275c34b1",
   "metadata": {},
   "source": [
    "# expanding the SQuAD dataset"
   ]
  },
  {
   "cell_type": "code",
   "execution_count": 1,
   "id": "244d4dbc",
   "metadata": {},
   "outputs": [
    {
     "name": "stderr",
     "output_type": "stream",
     "text": [
      "/home/sambeck/.pyenv/versions/3.6.13/lib/python3.6/site-packages/pattern/vector/__init__.py:284: ResourceWarning: unclosed file <_io.BufferedReader name='/home/sambeck/.pyenv/versions/3.6.13/lib/python3.6/site-packages/pattern/vector/stopwords-de.txt'>\n",
      "  w = (w.strip() for w in w.read().split(\",\"))\n",
      "/home/sambeck/.pyenv/versions/3.6.13/lib/python3.6/site-packages/pattern/vector/__init__.py:284: ResourceWarning: unclosed file <_io.BufferedReader name='/home/sambeck/.pyenv/versions/3.6.13/lib/python3.6/site-packages/pattern/vector/stopwords-es.txt'>\n",
      "  w = (w.strip() for w in w.read().split(\",\"))\n",
      "/home/sambeck/.pyenv/versions/3.6.13/lib/python3.6/site-packages/pattern/vector/__init__.py:284: ResourceWarning: unclosed file <_io.BufferedReader name='/home/sambeck/.pyenv/versions/3.6.13/lib/python3.6/site-packages/pattern/vector/stopwords-en.txt'>\n",
      "  w = (w.strip() for w in w.read().split(\",\"))\n",
      "/home/sambeck/.pyenv/versions/3.6.13/lib/python3.6/site-packages/pattern/vector/__init__.py:284: ResourceWarning: unclosed file <_io.BufferedReader name='/home/sambeck/.pyenv/versions/3.6.13/lib/python3.6/site-packages/pattern/vector/stopwords-nl.txt'>\n",
      "  w = (w.strip() for w in w.read().split(\",\"))\n",
      "/home/sambeck/.pyenv/versions/3.6.13/lib/python3.6/site-packages/pattern/vector/__init__.py:284: ResourceWarning: unclosed file <_io.BufferedReader name='/home/sambeck/.pyenv/versions/3.6.13/lib/python3.6/site-packages/pattern/vector/stopwords-fr.txt'>\n",
      "  w = (w.strip() for w in w.read().split(\",\"))\n",
      "/home/sambeck/code/checklist/checklist/perturb.py:12: ResourceWarning: unclosed file <_io.TextIOWrapper name='/home/sambeck/code/checklist/checklist/data/lexicons/basic.json' mode='r' encoding='UTF-8'>\n",
      "  basic = json.load(open(os.path.join(cur_folder, 'data', 'lexicons', 'basic.json')))\n",
      "/home/sambeck/code/checklist/checklist/perturb.py:13: ResourceWarning: unclosed file <_io.TextIOWrapper name='/home/sambeck/code/checklist/checklist/data/names.json' mode='r' encoding='UTF-8'>\n",
      "  names = json.load(open(os.path.join(cur_folder, 'data', 'names.json')))\n"
     ]
    }
   ],
   "source": [
    "import datasets\n",
    "from transformers import AutoTokenizer, AutoModelForSequenceClassification, \\\n",
    "    AutoModelForQuestionAnswering, Trainer, TrainingArguments, HfArgumentParser, pipeline\n",
    "from helpers import prepare_dataset_nli, prepare_train_dataset_qa, \\\n",
    "    prepare_validation_dataset_qa, QuestionAnsweringTrainer, compute_accuracy\n",
    "import os\n",
    "import json\n",
    "import checklist\n",
    "from checklist.editor import Editor\n",
    "from checklist.perturb import Perturb\n",
    "\n",
    "NUM_PREPROCESSING_WORKERS = 2"
   ]
  },
  {
   "cell_type": "code",
   "execution_count": 2,
   "id": "b9ae09bf",
   "metadata": {},
   "outputs": [],
   "source": [
    "KEYS = ['id', 'title', 'context', 'question', 'answers']"
   ]
  },
  {
   "cell_type": "markdown",
   "id": "052cd2e4",
   "metadata": {},
   "source": [
    "### original dataset"
   ]
  },
  {
   "cell_type": "code",
   "execution_count": 3,
   "id": "7c26b798",
   "metadata": {},
   "outputs": [
    {
     "name": "stderr",
     "output_type": "stream",
     "text": [
      "Reusing dataset squad (/home/sambeck/.cache/huggingface/datasets/squad/plain_text/1.0.0/d6ec3ceb99ca480ce37cdd35555d6cb2511d223b9150cce08a837ef62ffea453)\n"
     ]
    }
   ],
   "source": [
    "sqd = datasets.load_dataset('squad')"
   ]
  },
  {
   "cell_type": "code",
   "execution_count": 4,
   "id": "f0ad559b",
   "metadata": {},
   "outputs": [],
   "source": [
    "lumped_data = {}"
   ]
  },
  {
   "cell_type": "code",
   "execution_count": 5,
   "id": "011105ff",
   "metadata": {},
   "outputs": [
    {
     "data": {
      "text/plain": [
       "Dataset({\n",
       "    features: ['id', 'title', 'context', 'question', 'answers'],\n",
       "    num_rows: 87599\n",
       "})"
      ]
     },
     "execution_count": 5,
     "metadata": {},
     "output_type": "execute_result"
    }
   ],
   "source": [
    "sqd['train']"
   ]
  },
  {
   "cell_type": "code",
   "execution_count": 6,
   "id": "3f9047f4",
   "metadata": {},
   "outputs": [
    {
     "data": {
      "text/plain": [
       "DatasetDict({\n",
       "    train: Dataset({\n",
       "        features: ['id', 'title', 'context', 'question', 'answers'],\n",
       "        num_rows: 87599\n",
       "    })\n",
       "    validation: Dataset({\n",
       "        features: ['id', 'title', 'context', 'question', 'answers'],\n",
       "        num_rows: 10570\n",
       "    })\n",
       "})"
      ]
     },
     "execution_count": 6,
     "metadata": {},
     "output_type": "execute_result"
    }
   ],
   "source": [
    "sqd"
   ]
  },
  {
   "cell_type": "code",
   "execution_count": 7,
   "id": "e06d34a5",
   "metadata": {},
   "outputs": [],
   "source": [
    "for key in KEYS:\n",
    "    lumped_data[key] = sqd['train'][key]\n",
    "    lumped_data[key].extend(sqd['validation'][key])"
   ]
  },
  {
   "cell_type": "markdown",
   "id": "ec1db8e2",
   "metadata": {},
   "source": [
    "### adapt checklist tooling to Huggingface SQuAD standard"
   ]
  },
  {
   "cell_type": "code",
   "execution_count": 8,
   "id": "8efae902",
   "metadata": {},
   "outputs": [
    {
     "name": "stderr",
     "output_type": "stream",
     "text": [
      "/home/sambeck/code/checklist/checklist/editor.py:273: ResourceWarning: unclosed file <_io.TextIOWrapper name='/home/sambeck/code/checklist/checklist/data/lexicons/basic.json' mode='r' encoding='UTF-8'>\n",
      "  self.lexicons.update(json.load(open(os.path.join(folder, f))))\n",
      "/home/sambeck/code/checklist/checklist/editor.py:274: ResourceWarning: unclosed file <_io.TextIOWrapper name='/home/sambeck/code/checklist/checklist/data/names.json' mode='r' encoding='UTF-8'>\n",
      "  self.data['names'] = json.load(open(os.path.join(cur_folder, 'data', 'names.json')))\n",
      "/home/sambeck/code/checklist/checklist/editor.py:281: ResourceWarning: unclosed file <_io.BufferedReader name='/home/sambeck/code/checklist/checklist/data/wikidata.pkl'>\n",
      "  wikidata = pickle.load(open(os.path.join(cur_folder, 'data', 'wikidata.pkl'), 'rb'))\n"
     ]
    }
   ],
   "source": [
    "editor = Editor()"
   ]
  },
  {
   "cell_type": "code",
   "execution_count": 9,
   "id": "89a94073",
   "metadata": {},
   "outputs": [],
   "source": [
    "def create_data_dict(question_template, context_template, answer_template, lexicon_dict, title, n_samples=3000):\n",
    "    ret = editor.template({\n",
    "        'question': question_template,\n",
    "        'context': context_template, \n",
    "        },\n",
    "        labels={'text': [answer_template]},\n",
    "        **lexicon_dict,\n",
    "        remove_duplicates=True,\n",
    "        nsamples=n_samples,\n",
    "    )\n",
    "    print('Sample:')\n",
    "    print(ret.data[0])\n",
    "    print(ret.labels[0])\n",
    "\n",
    "    ret.answers = ret.labels\n",
    "    del ret.labels\n",
    "    ret.question = [d['question'] for d in ret.data]\n",
    "    ret.context = [d['context'] for d in ret.data]\n",
    "    ret.id = []\n",
    "    ret.title = []\n",
    "\n",
    "    for i in range(len(ret.answers)):\n",
    "        ret.answers[i]['answer_start'] = [ret.context[i].find(ret.answers[i]['text'][0])]\n",
    "        ret.id.append(str(hex(hash(str(ret.data[i]))))[2:])\n",
    "        ret.title.append(title)\n",
    "\n",
    "    del ret.data\n",
    "    return ret\n"
   ]
  },
  {
   "cell_type": "code",
   "execution_count": 10,
   "id": "30dfeb05",
   "metadata": {},
   "outputs": [
    {
     "name": "stdout",
     "output_type": "stream",
     "text": [
      "Sample:\n",
      "{'question': 'Who is the most bad?', 'context': 'Daniel is bad, but Donald is more bad.'}\n",
      "{'text': ['Donald']}\n"
     ]
    }
   ],
   "source": [
    "more_x = create_data_dict(\n",
    "    question_template='Who is the most {madeupadj}?', \n",
    "    context_template='{male1} is {madeupadj}, but {male2} is more {madeupadj}.',\n",
    "    answer_template='{male2}',\n",
    "    lexicon_dict={'madeupadj': 'easy, educational, ordinary, academic, art, average, old, independent, entertaining, enjoyable, original, interesting, good, exciting, amateur, ideal, actual, experimental, innocent, interview, engaging, intelligent, interactive, bad, individual, great, funny'.split(', ')}, \n",
    "    title='who_is_more_x',\n",
    ")"
   ]
  },
  {
   "cell_type": "code",
   "execution_count": 11,
   "id": "6e4862e9",
   "metadata": {},
   "outputs": [
    {
     "name": "stdout",
     "output_type": "stream",
     "text": [
      "Sample:\n",
      "{'question': 'Who is the least individual?', 'context': 'Harriet is individual, but Kathryn is more individual.'}\n",
      "{'text': ['Harriet']}\n"
     ]
    }
   ],
   "source": [
    "less_x = create_data_dict(\n",
    "    question_template='Who is the least {madeupadj}?', \n",
    "    context_template='{female1} is {madeupadj}, but {female2} is more {madeupadj}.',\n",
    "    answer_template='{female1}',\n",
    "    lexicon_dict={'madeupadj': 'easy, educational, ordinary, academic, art, average, old, independent, entertaining, enjoyable, original, interesting, good, exciting, amateur, ideal, actual, experimental, innocent, interview, engaging, intelligent, interactive, bad, individual, great, funny'.split(', ')}, \n",
    "    title='who_is_less_x',\n",
    ")"
   ]
  },
  {
   "cell_type": "code",
   "execution_count": 12,
   "id": "bbe11fdd",
   "metadata": {},
   "outputs": [
    {
     "name": "stdout",
     "output_type": "stream",
     "text": [
      "Sample:\n",
      "{'question': 'Who is more secular?', 'context': 'Dallas is religious, but Lincoln is more religious.'}\n",
      "{'text': ['Dallas']}\n"
     ]
    }
   ],
   "source": [
    "antonyms = [('progressive', 'conservative'),('religious', 'secular'),('positive', 'negative'),('defensive', 'offensive'),('rude',  'polite'),('optimistic', 'pessimistic'),('stupid', 'smart'),('negative', 'positive'),('unhappy', 'happy'),('active', 'passive'),('impatient', 'patient'),('powerless', 'powerful'),('visible', 'invisible'),('fat', 'thin'),('bad', 'good'),('cautious', 'brave'), ('hopeful', 'hopeless'),('insecure', 'secure'),('humble', 'proud'),('passive', 'active'),('dependent', 'independent'),('pessimistic', 'optimistic'),('irresponsible', 'responsible'),('courageous', 'fearful')]\n",
    "antonym_exs = create_data_dict(\n",
    "    question_template='Who is more {x[1]}?', \n",
    "    context_template='{city1} is {x[0]}, but {city2} is more {x[0]}.',\n",
    "    answer_template='{city1}',\n",
    "    lexicon_dict={'x': antonyms}, \n",
    "    title='who_is_more_antonym',\n",
    ")"
   ]
  },
  {
   "cell_type": "code",
   "execution_count": 13,
   "id": "ff558623",
   "metadata": {},
   "outputs": [
    {
     "data": {
      "text/plain": [
       "2975"
      ]
     },
     "execution_count": 13,
     "metadata": {},
     "output_type": "execute_result"
    }
   ],
   "source": [
    "len(more_x.answers)"
   ]
  },
  {
   "cell_type": "code",
   "execution_count": 14,
   "id": "aeeac29f",
   "metadata": {},
   "outputs": [],
   "source": [
    "for k in KEYS:\n",
    "    for examples in [more_x, less_x, antonym_exs]:\n",
    "        lumped_data[k].extend(examples[k])"
   ]
  },
  {
   "cell_type": "code",
   "execution_count": 21,
   "id": "445c2ac4",
   "metadata": {},
   "outputs": [],
   "source": [
    "d = datasets.Dataset.from_dict(lumped_data)"
   ]
  },
  {
   "cell_type": "code",
   "execution_count": 22,
   "id": "30bbc930",
   "metadata": {},
   "outputs": [],
   "source": [
    "d.save_to_disk('./new_dataset')"
   ]
  },
  {
   "cell_type": "code",
   "execution_count": null,
   "id": "1d838ded",
   "metadata": {},
   "outputs": [],
   "source": []
  }
 ],
 "metadata": {
  "kernelspec": {
   "display_name": "PyCharm (a5)",
   "language": "python",
   "name": "pycharm-f95a7fa"
  },
  "language_info": {
   "codemirror_mode": {
    "name": "ipython",
    "version": 3
   },
   "file_extension": ".py",
   "mimetype": "text/x-python",
   "name": "python",
   "nbconvert_exporter": "python",
   "pygments_lexer": "ipython3",
   "version": "3.6.13"
  }
 },
 "nbformat": 4,
 "nbformat_minor": 5
}
