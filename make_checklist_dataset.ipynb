{
 "cells": [
  {
   "cell_type": "markdown",
   "id": "275c34b1",
   "metadata": {},
   "source": [
    "# expanding the SQuAD dataset"
   ]
  },
  {
   "cell_type": "code",
   "execution_count": 1,
   "id": "244d4dbc",
   "metadata": {},
   "outputs": [
    {
     "name": "stderr",
     "output_type": "stream",
     "text": [
      "/home/sambeck/.pyenv/versions/3.6.13/lib/python3.6/site-packages/pattern/vector/__init__.py:284: ResourceWarning: unclosed file <_io.BufferedReader name='/home/sambeck/.pyenv/versions/3.6.13/lib/python3.6/site-packages/pattern/vector/stopwords-de.txt'>\n",
      "  w = (w.strip() for w in w.read().split(\",\"))\n",
      "/home/sambeck/.pyenv/versions/3.6.13/lib/python3.6/site-packages/pattern/vector/__init__.py:284: ResourceWarning: unclosed file <_io.BufferedReader name='/home/sambeck/.pyenv/versions/3.6.13/lib/python3.6/site-packages/pattern/vector/stopwords-es.txt'>\n",
      "  w = (w.strip() for w in w.read().split(\",\"))\n",
      "/home/sambeck/.pyenv/versions/3.6.13/lib/python3.6/site-packages/pattern/vector/__init__.py:284: ResourceWarning: unclosed file <_io.BufferedReader name='/home/sambeck/.pyenv/versions/3.6.13/lib/python3.6/site-packages/pattern/vector/stopwords-en.txt'>\n",
      "  w = (w.strip() for w in w.read().split(\",\"))\n",
      "/home/sambeck/.pyenv/versions/3.6.13/lib/python3.6/site-packages/pattern/vector/__init__.py:284: ResourceWarning: unclosed file <_io.BufferedReader name='/home/sambeck/.pyenv/versions/3.6.13/lib/python3.6/site-packages/pattern/vector/stopwords-nl.txt'>\n",
      "  w = (w.strip() for w in w.read().split(\",\"))\n",
      "/home/sambeck/.pyenv/versions/3.6.13/lib/python3.6/site-packages/pattern/vector/__init__.py:284: ResourceWarning: unclosed file <_io.BufferedReader name='/home/sambeck/.pyenv/versions/3.6.13/lib/python3.6/site-packages/pattern/vector/stopwords-fr.txt'>\n",
      "  w = (w.strip() for w in w.read().split(\",\"))\n",
      "/home/sambeck/code/checklist/checklist/perturb.py:12: ResourceWarning: unclosed file <_io.TextIOWrapper name='/home/sambeck/code/checklist/checklist/data/lexicons/basic.json' mode='r' encoding='UTF-8'>\n",
      "  basic = json.load(open(os.path.join(cur_folder, 'data', 'lexicons', 'basic.json')))\n",
      "/home/sambeck/code/checklist/checklist/perturb.py:13: ResourceWarning: unclosed file <_io.TextIOWrapper name='/home/sambeck/code/checklist/checklist/data/names.json' mode='r' encoding='UTF-8'>\n",
      "  names = json.load(open(os.path.join(cur_folder, 'data', 'names.json')))\n"
     ]
    }
   ],
   "source": [
    "import datasets\n",
    "from transformers import AutoTokenizer, AutoModelForSequenceClassification, \\\n",
    "    AutoModelForQuestionAnswering, Trainer, TrainingArguments, HfArgumentParser, pipeline\n",
    "from helpers import prepare_dataset_nli, prepare_train_dataset_qa, \\\n",
    "    prepare_validation_dataset_qa, QuestionAnsweringTrainer, compute_accuracy\n",
    "import os\n",
    "import json\n",
    "import checklist\n",
    "from checklist.editor import Editor\n",
    "from checklist.perturb import Perturb\n",
    "\n",
    "NUM_PREPROCESSING_WORKERS = 2"
   ]
  },
  {
   "cell_type": "code",
   "execution_count": 2,
   "id": "694fcc4d",
   "metadata": {},
   "outputs": [],
   "source": [
    "MODEL='google/electra-small-discriminator'\n",
    "TASK='qa'\n",
    "DATASET='squad'\n",
    "MAX_LENGTH=128\n",
    "TRAIN_MAX_SAMPLES=1000   # or None"
   ]
  },
  {
   "cell_type": "markdown",
   "id": "052cd2e4",
   "metadata": {},
   "source": [
    "### original dataset"
   ]
  },
  {
   "cell_type": "code",
   "execution_count": 3,
   "id": "7c26b798",
   "metadata": {},
   "outputs": [
    {
     "name": "stderr",
     "output_type": "stream",
     "text": [
      "Reusing dataset squad (/home/sambeck/.cache/huggingface/datasets/squad/plain_text/1.0.0/d6ec3ceb99ca480ce37cdd35555d6cb2511d223b9150cce08a837ef62ffea453)\n"
     ]
    }
   ],
   "source": [
    "SQUAD = datasets.load_dataset('squad')"
   ]
  },
  {
   "cell_type": "code",
   "execution_count": 4,
   "id": "011105ff",
   "metadata": {},
   "outputs": [
    {
     "data": {
      "text/plain": [
       "DatasetDict({\n",
       "    train: Dataset({\n",
       "        features: ['id', 'title', 'context', 'question', 'answers'],\n",
       "        num_rows: 87599\n",
       "    })\n",
       "    validation: Dataset({\n",
       "        features: ['id', 'title', 'context', 'question', 'answers'],\n",
       "        num_rows: 10570\n",
       "    })\n",
       "})"
      ]
     },
     "execution_count": 4,
     "metadata": {},
     "output_type": "execute_result"
    }
   ],
   "source": [
    "SQUAD"
   ]
  },
  {
   "cell_type": "markdown",
   "id": "ec1db8e2",
   "metadata": {},
   "source": [
    "### adapt checklist tooling to Huggingface SQuAD standard"
   ]
  },
  {
   "cell_type": "code",
   "execution_count": null,
   "id": "8efae902",
   "metadata": {},
   "outputs": [],
   "source": [
    "editor = Editor()"
   ]
  },
  {
   "cell_type": "code",
   "execution_count": 24,
   "id": "89a94073",
   "metadata": {},
   "outputs": [
    {
     "name": "stdout",
     "output_type": "stream",
     "text": [
      "{'question': 'Who is the most great?', 'context': 'John is great, but William is more great.'}\n",
      "{'text': ['William']}\n",
      "\n",
      "{'question': 'Who is the most awesome?', 'context': 'John is awesome, but William is more awesome.'}\n",
      "{'text': ['William']}\n",
      "\n"
     ]
    }
   ],
   "source": [
    "ret = editor.template({\n",
    "    'question': 'Who is the most {adj}?',\n",
    "    'context': '{male1} is {adj}, but {male2} is more {adj}.' \n",
    "    },\n",
    "    labels={'text': ['{male2}']},\n",
    "    adj=['great', 'awesome', 'excellent'],\n",
    "    remove_duplicates=True)\n",
    "print(ret.data[0])\n",
    "print(ret.labels[0])\n",
    "print()\n",
    "print(ret.data[1])\n",
    "print(ret.labels[1])\n",
    "print()\n",
    "\n",
    "ret.answers = ret.labels\n",
    "del ret.labels\n",
    "ret.question = [d['question'] for d in ret.data]\n",
    "ret.context = [d['context'] for d in ret.data]\n",
    "ret.id = []\n",
    "ret.title = []\n",
    "\n",
    "for i in range(len(ret.answers)):\n",
    "    ret.answers[i]['answer_start'] = [ret.context[i].find(ret.answers[i]['text'][0])]\n",
    "    ret.id.append(str(hex(hash(str(ret.data[i]))))[2:])\n",
    "    ret.title.append('whoismore')\n",
    "    \n",
    "del ret.data\n",
    "    "
   ]
  },
  {
   "cell_type": "code",
   "execution_count": 25,
   "id": "018c2753",
   "metadata": {},
   "outputs": [],
   "source": [
    "d = datasets.Dataset.from_dict(ret)"
   ]
  },
  {
   "cell_type": "code",
   "execution_count": 26,
   "id": "30bbc930",
   "metadata": {},
   "outputs": [],
   "source": [
    "d.save_to_disk('./new_dataset')"
   ]
  },
  {
   "cell_type": "code",
   "execution_count": null,
   "id": "1d838ded",
   "metadata": {},
   "outputs": [],
   "source": []
  }
 ],
 "metadata": {
  "kernelspec": {
   "display_name": "PyCharm (a5)",
   "language": "python",
   "name": "pycharm-f95a7fa"
  },
  "language_info": {
   "codemirror_mode": {
    "name": "ipython",
    "version": 3
   },
   "file_extension": ".py",
   "mimetype": "text/x-python",
   "name": "python",
   "nbconvert_exporter": "python",
   "pygments_lexer": "ipython3",
   "version": "3.6.13"
  }
 },
 "nbformat": 4,
 "nbformat_minor": 5
}
