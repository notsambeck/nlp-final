{
 "cells": [
  {
   "cell_type": "code",
   "execution_count": 33,
   "metadata": {},
   "outputs": [
    {
     "name": "stdout",
     "output_type": "stream",
     "text": [
      "{'good', 'soundly', 'near', 'ripe', 'goodness', 'expert', 'salutary', 'undecomposed', 'unspoilt', 'dear', 'estimable', 'practiced', 'beneficial', 'skilful', 'sound', 'well', 'just', 'honorable', 'skillful', 'proficient', 'trade_good', 'right', 'full', 'thoroughly', 'secure', 'adept', 'in_force', 'honest', 'unspoiled', 'upright', 'effective', 'serious', 'commodity', 'dependable', 'in_effect', 'safe', 'respectable'}\n",
      "{'evil', 'bad', 'badness', 'ill', 'evilness'}\n"
     ]
    }
   ],
   "source": [
    "import nltk\n",
    "from nltk.corpus import wordnet\n",
    "synonyms = []\n",
    "antonyms = []\n",
    "\n",
    "for syn in wordnet.synsets(\"good\"):\n",
    "\tfor l in syn.lemmas():\n",
    "\t\tsynonyms.append(l.name())\n",
    "\t\tif l.antonyms():\n",
    "\t\t\tantonyms.append(l.antonyms()[0].name())\n",
    "\n",
    "print(set(synonyms))\n",
    "print(set(antonyms))\n",
    "\n",
    "#This might be useful to create more adj/antonym pairs, if the other doesn't prove sufficient."
   ]
  },
  {
   "cell_type": "code",
   "execution_count": 34,
   "metadata": {},
   "outputs": [],
   "source": [
    "import checklist\n",
    "from checklist.editor import Editor\n",
    "from checklist.perturb import Perturb\n",
    "from checklist.test_types import MFT, INV, DIR\n",
    "from checklist.test_suite import TestSuite\n",
    "from checklist.expect import Expect"
   ]
  },
  {
   "cell_type": "code",
   "execution_count": 35,
   "metadata": {},
   "outputs": [
    {
     "name": "stdout",
     "output_type": "stream",
     "text": [
      "('hungry', 'thirsty'),('visible', 'invisible'),('positive', 'negative'),('difficult', 'easy'),('progressive', 'conservative'),('fat', 'lean', 'thin'),('specific', 'general'),('active', 'passive'),('courageous', 'fearful'),('invisible', 'visible'),('unhappy', 'happy'),('uncomfortable', 'comfortable'),('organic', 'functional'),('pessimistic', 'optimistic'),('hopeful', 'hopeless'),('impatient', 'patient'),('conservative', 'progressive', 'liberal'),('stupid', 'smart', 'intelligent'),('negative', 'positive'),('rude', 'civil', 'polite'),('emotional', 'intellectual'),('irresponsible', 'responsible'),('evil', 'good'),('powerless', 'powerful'),('bad', 'good'),('corrupt', 'straight'),('defensive', 'offensive'),('cautious', 'brave'),('smart', 'stupid'),('individual', 'common'),('optimistic', 'pessimistic'),('insecure', 'secure'),('humble', 'proud'),('passive', 'active'),('dependent', 'independent'),('conspicuous', 'invisible'),('shy', 'confident')\n"
     ]
    }
   ],
   "source": [
    "editor = Editor()\n",
    "opps = []\n",
    "x = editor.suggest('How can I become more {mask}?')\n",
    "x += editor.suggest('How can I become less {mask}?')\n",
    "for a in set(x):\n",
    "    e = editor.antonyms('How can I become {moreless} %s?' % a, a, moreless=['more', 'less'])\n",
    "    if e:\n",
    "#         print(a, [b[0][0] for b in e] )\n",
    "        opps.append([a] + e)\n",
    "#         opps.append((a, e[0][0][0]))\n",
    "print(','.join([str(tuple(x)) for x in opps]))"
   ]
  },
  {
   "cell_type": "code",
   "execution_count": 36,
   "metadata": {},
   "outputs": [
    {
     "data": {
      "application/vnd.jupyter.widget-view+json": {
       "model_id": "e7c62202a2444d56a078a2db17ea501f",
       "version_major": 2,
       "version_minor": 0
      },
      "text/plain": [
       "TemplateEditor(bert_suggests=['nice', 'smart', 'handsome', 'good', 'happy', 'special', 'brave', 'funny', 'stro…"
      ]
     },
     "metadata": {},
     "output_type": "display_data"
    }
   ],
   "source": [
    "editor.visual_suggest('I told her that {male} is very {mask}.')"
   ]
  },
  {
   "cell_type": "code",
   "execution_count": 37,
   "metadata": {},
   "outputs": [],
   "source": [
    "#we could add more sentences here to generate more different kinds of antonym sets...\n",
    "adj = editor.suggest('I told her that {male} is very {mask}')\n",
    "adj += editor.suggest('The toy is {mask}')"
   ]
  },
  {
   "cell_type": "code",
   "execution_count": 38,
   "metadata": {},
   "outputs": [
    {
     "name": "stdout",
     "output_type": "stream",
     "text": [
      "['nice', 'good', 'strong', 'smart', 'popular', 'kind', 'cool', 'handsome', 'funny', 'special', 'sweet', 'happy', 'proud', 'important', 'helpful', 'powerful', 'brave', 'friendly', 'generous', 'angry', 'cute', 'intelligent', 'close', 'famous', 'ill', 'busy', 'talented', 'different', 'sad', 'well', 'tough', 'beautiful', 'persuasive', 'old', 'young', 'bad', 'charming', 'quiet', 'successful', 'rich', 'difficult', '…', 'loyal', 'polite', 'religious', 'shy', 'lonely', 'great', 'upset', 'interesting', 'patient', 'sick', 'attractive', 'scary', 'clever', 'wise', 'strict', 'thoughtful', 'sensitive', 'bright', 'influential', 'calm', 'fine', 'supportive', 'worried', 'dangerous', 'hot', 'sorry', 'pretty', 'serious', 'protective', 'mean', 'loving', 'depressed', 'violent', 'disappointed', 'compassionate', 'evil', 'concerned', 'wealthy', 'inspiring', 'encouraging', 'rude', 'scared', 'weak', 'understanding', 'cruel', 'excited', 'misunderstood', 'awesome', 'aggressive', 'jealous', 'impressive', 'tall', 'strange', 'abusive', 'gay', 'romantic', 'pale', 'afraid', 'positive', 'gentle', 'conservative', 'courageous', 'cold', 'respectful', 'wonderful', 'late', 'warm', 'promising', 'stubborn', 'weird', 'much', 'interested', 'impressed', 'caring', 'creative', 'manipulative', 'mysterious', 'optimistic', 'sincere', 'poor', 'rare', 'ambitious', 'honest', 'careful', 'welcoming', 'lucky', 'naughty', 'charismatic', 'wrong', 'similar', 'intimidating', 'suspicious', 'pleased', 'real', 'grateful', 'Christian', 'trustworthy', 'troubled', 'boring', 'big', 'secretive', 'inspirational', 'complicated', 'spiritual', 'heroic', 'intense', 'stupid', 'adorable', 'active', '...', 'racist', 'annoying', 'professional', 'mad', 'threatening', 'humble', 'diplomatic', 'gracious', 'creepy', 'arrogant', 'faithful', 'distant', 'emotional', 'unhappy', 'ugly', 'lovely', 'patriotic', 'human', 'noble', 'forgiving', 'tolerant', 'sexy', 'committed', 'brilliant', 'British', 'useful', 'hurt', 'witty', 'thin', 'hard', 'frustrated', 'familiar', 'spoiled', 'fat', 'dedicated', 'articulate', 'amazing', 'passionate', 'respected', 'pleasant', 'named', ':', 'here', 'called', 'not', 'broken', '.', 'defective', 'this', 'expensive', 'incomplete', 'beautiful', 'simple', 'labeled', 'good', 'new', 'assembled', 'delicious', 'used', 'awesome', 'useless', 'available', 'ugly', 'mine', 'worthless', '...', 'built', '…', 'sold', 'empty', 'fake', 'free', 'excellent', 'durable', 'hot', 'solid', 'real', 'bad', 'a', 'that', 'functional', 'safe', 'cheap', '[]', 'found', 'useful', 'now', 'impressive', 'unstable', 'cool', 'generic', 'great', 'complete', 'white', ',', 'fragile', 'identical', 'interesting', 'unique', 'different', 'like', 'discontinued', 'described', 'popular', 'the', 'made', 'labelled', 'numbered', 'wonderful', 'dirty', 'easy', 'cute', ';', 'unknown', 'dangerous', 'amazing', 'unnamed', 'titled', 'interactive', 'homemade', 'terrible', 'effective', 'damaged', 'complicated', 'gone', 'clean', 'blue', 'revealed', 'black', 'nice', 'pictured', 'perfect', 'below', 'complex', 'designed', 'stolen', 'patented', 'from', 'gold', 'adorable', 'plastic', 'shown', 'small', 'sweet', 'for', 'lovely', 'red', 'powerful', 'familiar', 'fantastic']\n"
     ]
    }
   ],
   "source": [
    "print(adj)"
   ]
  },
  {
   "cell_type": "code",
   "execution_count": 39,
   "metadata": {},
   "outputs": [
    {
     "name": "stdout",
     "output_type": "stream",
     "text": [
      "('hungry', 'thirsty'),('visible', 'invisible'),('positive', 'negative'),('difficult', 'easy'),('progressive', 'conservative'),('fat', 'lean', 'thin'),('specific', 'general'),('active', 'passive'),('courageous', 'fearful'),('invisible', 'visible'),('unhappy', 'happy'),('uncomfortable', 'comfortable'),('organic', 'functional'),('pessimistic', 'optimistic'),('hopeful', 'hopeless'),('impatient', 'patient'),('conservative', 'progressive', 'liberal'),('stupid', 'smart', 'intelligent'),('negative', 'positive'),('rude', 'civil', 'polite'),('emotional', 'intellectual'),('irresponsible', 'responsible'),('evil', 'good'),('powerless', 'powerful'),('bad', 'good'),('corrupt', 'straight'),('defensive', 'offensive'),('cautious', 'brave'),('smart', 'stupid'),('individual', 'common'),('optimistic', 'pessimistic'),('insecure', 'secure'),('humble', 'proud'),('passive', 'active'),('dependent', 'independent'),('conspicuous', 'invisible'),('shy', 'confident'),('bright', 'dull', 'dim'),('good', 'ill', 'bad'),('encouraging', 'discouraging'),('useful', 'useless'),('empty', 'full'),('fine', 'harsh', 'coarse'),('available', 'unavailable'),('ugly', 'beautiful'),('friendly', 'hostile'),('positive', 'negative', 'neutral'),('difficult', 'easy'),('well', 'ill', 'sick', 'poorly', 'badly'),('beautiful', 'ugly'),('strange', 'familiar'),('here', 'there'),('fat', 'thin', 'lean'),('cold', 'hot'),('intense', 'mild'),('dirty', 'clean'),('wise', 'foolish'),('black', 'white'),('active', 'quiet', 'passive', 'inactive'),('courageous', 'fearful', 'cowardly'),('sensitive', 'insensitive'),('effective', 'ineffective'),('happy', 'unhappy'),('found', 'lost', 'lose'),('safe', 'dangerous', 'unsafe'),('useless', 'useful'),('much', 'little', 'slight'),('strong', 'weak'),('brave', 'timid', 'cautious', 'fearful', 'cowardly'),('nice', 'nasty'),('pleasant', 'unpleasant'),('white', 'black'),('unhappy', 'happy'),('excited', 'quiet', 'calm', 'still'),('unstable', 'stable'),('polite', 'rude'),('careful', 'careless'),('made', 'break'),('sick', 'well'),('familiar', 'strange', 'unusual', 'unfamiliar'),('similar', 'different'),('below', 'upstairs', 'above'),('tall', 'short', 'little'),('like', 'different', 'unlike'),('perfect', 'imperfect'),('poor', 'rich'),('worthless', 'valuable'),('quiet', 'active', 'noisy'),('lucky', 'unlucky'),('complete', 'incomplete'),('serious', 'playful'),('distant', 'close'),('simple', 'complex'),('professional', 'amateur'),('new', 'old', 'worn'),('weak', 'strong'),('conservative', 'liberal', 'progressive'),('broken', 'advance', 'doctor', 'kept'),('stupid', 'intelligent', 'smart'),('rude', 'polite', 'civil'),('proud', 'humble'),('afraid', 'fearless'),('emotional', 'cerebral'),('patient', 'impatient'),('cool', 'warm'),('respectful', 'disrespectful'),('easy', 'difficult', 'hard', 'quickly', 'uneasy'),('young', 'old'),('discontinued', 'continued', 'proceed'),('shown', 'hide'),('evil', 'good'),('functional', 'organic'),('bad', 'good'),('sweet', 'dry', 'salty', 'sour'),('sold', 'buy'),('unknown', 'known'),('smart', 'stupid'),('gone', 'come'),('hot', 'cold'),('optimistic', 'pessimistic'),('incomplete', 'complete'),('close', 'distant', 'open', 'remote', 'far'),('rich', 'poor', 'lean'),('humble', 'proud'),('cheap', 'expensive'),('hard', 'easy', 'soft'),('dangerous', 'safe'),('complex', 'simple'),('late', 'early'),('clean', 'dirty'),('wrong', 'right', 'correct'),('small', 'big', 'large'),('popular', 'unpopular'),('warm', 'cool'),('tough', 'tender'),('honest', 'dishonest'),('solid', 'liquid', 'hollow'),('old', 'young', 'new', 'immature'),('shy', 'confident'),('different', 'similar', 'like'),('big', 'small', 'little'),('ill', 'good', 'well'),('expensive', 'cheap', 'inexpensive'),('intelligent', 'stupid'),('thin', 'full', 'thick', 'fat')\n"
     ]
    }
   ],
   "source": [
    "for a in set(adj):\n",
    "    e = editor.antonyms('{HeIt} was very %s?' % a, a, HeIt=['He', 'It'])\n",
    "    if e:\n",
    "#         print(a, [b[0][0] for b in e] )\n",
    "        opps.append([a] + e)\n",
    "#         opps.append((a, e[0][0][0]))\n",
    "print(','.join([str(tuple(x)) for x in opps]))\n",
    "    "
   ]
  },
  {
   "cell_type": "code",
   "execution_count": 40,
   "metadata": {},
   "outputs": [],
   "source": [
    "antonyms = [('hungry', 'thirsty'),('visible', 'invisible'),('positive', 'negative'),('difficult', 'easy'),('progressive', 'conservative'),('fat', 'lean', 'thin'),('specific', 'general'),('active', 'passive'),('courageous', 'fearful'),('invisible', 'visible'),('unhappy', 'happy'),('uncomfortable', 'comfortable'),('organic', 'functional'),('pessimistic', 'optimistic'),('hopeful', 'hopeless'),('impatient', 'patient'),('conservative', 'progressive', 'liberal'),('stupid', 'intelligent', 'smart'),('negative', 'positive'),('rude', 'polite', 'civil'),('emotional', 'intellectual'),('irresponsible', 'responsible'),('evil', 'good'),('powerless', 'powerful'),('bad', 'good'),('corrupt', 'straight'),('defensive', 'offensive'),('cautious', 'brave'),('smart', 'stupid'),('individual', 'common'),('optimistic', 'pessimistic'),('insecure', 'secure'),('humble', 'proud'),('passive', 'active'),('dependent', 'independent'),('conspicuous', 'invisible'),('shy', 'confident'),('bright', 'dull', 'dim'),('good', 'ill', 'bad'),('reliable', 'unreliable'),('encouraging', 'discouraging'),('hungry', 'thirsty'),('useful', 'useless'),('empty', 'full'),('fine', 'harsh', 'coarse'),('available', 'unavailable'),('ugly', 'beautiful'),('friendly', 'hostile'),('positive', 'negative', 'neutral'),('difficult', 'easy'),('well', 'ill', 'sick', 'poorly', 'badly'),('beautiful', 'ugly'),('strange', 'familiar'),('here', 'there'),('cold', 'hot'),('intense', 'mild'),('dirty', 'clean'),('wise', 'foolish'),('black', 'white'),('active', 'quiet', 'passive', 'inactive'),('courageous', 'fearful', 'cowardly'),('sensitive', 'insensitive'),('effective', 'ineffective'),('happy', 'unhappy'),('found', 'lost', 'lose'),('safe', 'dangerous', 'unsafe'),('useless', 'useful'),('much', 'little', 'slight'),('strong', 'weak'),('brave', 'timid', 'cautious', 'fearful', 'cowardly'),('nice', 'nasty'),('white', 'black'),('unhappy', 'happy'),('excited', 'quiet', 'calm', 'still'),('healthy', 'unhealthy'),('unstable', 'stable'),('polite', 'rude'),('careful', 'careless'),('slow', 'fast', 'quickly'),('made', 'break'),('sick', 'well'),('familiar', 'strange', 'unusual', 'unfamiliar'),('similar', 'different'),('below', 'upstairs', 'above'),('tall', 'short', 'little'),('like', 'different', 'unlike'),('perfect', 'imperfect'),('poor', 'rich'),('worthless', 'valuable'),('quiet', 'active', 'noisy'),('lucky', 'unlucky'),('complete', 'incomplete'),('serious', 'playful'),('simple', 'complex'),('professional', 'amateur'),('new', 'old', 'worn'),('weak', 'strong'),('conservative', 'liberal', 'progressive'),('broken', 'advance', 'doctor', 'kept'),('stupid', 'smart', 'intelligent'),('rude', 'polite', 'civil'),('proud', 'humble'),('afraid', 'fearless'),('emotional', 'cerebral'),('dishonest', 'honest', 'honorable'),('patient', 'impatient'),('cool', 'warm'),('respectful', 'disrespectful'),('easy', 'difficult', 'hard', 'quickly', 'uneasy'),('young', 'old'),('discontinued', 'continued', 'proceed'),('shown', 'hide'),('evil', 'good'),('functional', 'organic'),('bad', 'good'),('sweet', 'dry', 'salty', 'sour'),('sold', 'buy'),('unknown', 'known'),('smart', 'stupid'),('gone', 'come'),('hot', 'cold'),('optimistic', 'pessimistic'),('incomplete', 'complete'),('close', 'distant', 'open', 'remote', 'far'),('rich', 'poor', 'lean'),('humble', 'proud'),('confident', 'shy', 'timid', 'unsure'),('cheap', 'expensive'),('hard', 'soft', 'easy'),('dangerous', 'safe'),('late', 'early'),('complex', 'simple'),('clean', 'dirty'),('wrong', 'right', 'correct'),('small', 'large', 'big'),('popular', 'unpopular'),('warm', 'cool'),('private', 'public'),('tough', 'tender'),('honest', 'dishonest'),('unpredictable', 'predictable'),('old', 'young', 'new', 'immature'),('solid', 'liquid', 'hollow'),('shy', 'confident'),('different', 'similar', 'like'),('big', 'small', 'little'),('ill', 'good', 'well'),('expensive', 'cheap', 'inexpensive'),('intelligent', 'stupid')]"
   ]
  },
  {
   "cell_type": "markdown",
   "metadata": {},
   "source": [
    "The following are useful for training the language model, but not very good for training the QA task.  After fine-tuning BERT on the contrast examples, we may want to come up with better examples of Questions with contexts and answers to add to the SQuAD dataset, and then do the QA finetuning."
   ]
  },
  {
   "cell_type": "code",
   "execution_count": 41,
   "metadata": {},
   "outputs": [
    {
     "data": {
      "text/plain": [
       "array(['I thought Fred was [MASK], but instead he was very happy.',\n",
       "       'I thought Jeff was beautiful, but instead he was very [MASK]. ',\n",
       "       'I thought Jerry was empty, but instead he was very [MASK]. '],\n",
       "      dtype='<U71')"
      ]
     },
     "execution_count": 41,
     "metadata": {},
     "output_type": "execute_result"
    }
   ],
   "source": [
    "import numpy as np\n",
    "\n",
    "ret = editor.template(['I thought {male} was [MASK], but instead he was very {x[1]}.', \n",
    "                       'I thought {male} was {x[0]}, but instead he was very [MASK]. '],\n",
    "    unroll=True,\n",
    "    x=antonyms,\n",
    "    remove_duplicates=True, \n",
    "    nsamples=300)\n",
    "np.random.choice(ret.data, 3)"
   ]
  },
  {
   "cell_type": "code",
   "execution_count": 42,
   "metadata": {},
   "outputs": [
    {
     "data": {
      "text/plain": [
       "array(['Jeff is [MASK], while Ed is not [MASK].  Ed is active.',\n",
       "       'Dan is visible, while Sam is not visible.  Sam is [MASK].',\n",
       "       'Jack is [MASK], while Anthony is not [MASK].  Anthony is optimistic.'],\n",
       "      dtype='<U85')"
      ]
     },
     "execution_count": 42,
     "metadata": {},
     "output_type": "execute_result"
    }
   ],
   "source": [
    "ret1 = editor.template(['{male1} is {x[0]}, while {male2} is not {x[0]}.  {male2} is [MASK].',\n",
    "                       '{male1} is [MASK], while {male2} is not [MASK].  {male2} is {x[1]}.'],\n",
    "    unroll=True,\n",
    "    x=antonyms,\n",
    "    remove_duplicates=True, \n",
    "    nsamples=300)\n",
    "np.random.choice(ret1.data, 3)\n",
    "\n",
    "#I'm not sure this one would work, unless you could force the two masks in the second sentence to be the same.\n",
    "#Other ideas for contrastive samples:\n",
    "#\"The child was {adj} at first, but then he became {antonym} instead.\"\n",
    "#\"This thing is too {adj}.  I wanted a {antonym} one instead.\""
   ]
  },
  {
   "cell_type": "code",
   "execution_count": null,
   "metadata": {},
   "outputs": [],
   "source": []
  },
  {
   "cell_type": "code",
   "execution_count": null,
   "metadata": {},
   "outputs": [],
   "source": []
  }
 ],
 "metadata": {
  "kernelspec": {
   "display_name": "Python 3",
   "language": "python",
   "name": "python3"
  },
  "language_info": {
   "codemirror_mode": {
    "name": "ipython",
    "version": 3
   },
   "file_extension": ".py",
   "mimetype": "text/x-python",
   "name": "python",
   "nbconvert_exporter": "python",
   "pygments_lexer": "ipython3",
   "version": "3.7.6"
  }
 },
 "nbformat": 4,
 "nbformat_minor": 4
}
