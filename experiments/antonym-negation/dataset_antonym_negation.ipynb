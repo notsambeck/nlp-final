{
 "cells": [
  {
   "cell_type": "markdown",
   "id": "275c34b1",
   "metadata": {},
   "source": [
    "# ANTONYM-NEGATION-COMPARISON dataset"
   ]
  },
  {
   "cell_type": "code",
   "execution_count": 1,
   "id": "244d4dbc",
   "metadata": {},
   "outputs": [
    {
     "name": "stderr",
     "output_type": "stream",
     "text": [
      "/home/sambeck/.pyenv/versions/3.6.13/lib/python3.6/site-packages/pattern/vector/__init__.py:284: ResourceWarning: unclosed file <_io.BufferedReader name='/home/sambeck/.pyenv/versions/3.6.13/lib/python3.6/site-packages/pattern/vector/stopwords-de.txt'>\n",
      "  w = (w.strip() for w in w.read().split(\",\"))\n",
      "/home/sambeck/.pyenv/versions/3.6.13/lib/python3.6/site-packages/pattern/vector/__init__.py:284: ResourceWarning: unclosed file <_io.BufferedReader name='/home/sambeck/.pyenv/versions/3.6.13/lib/python3.6/site-packages/pattern/vector/stopwords-es.txt'>\n",
      "  w = (w.strip() for w in w.read().split(\",\"))\n",
      "/home/sambeck/.pyenv/versions/3.6.13/lib/python3.6/site-packages/pattern/vector/__init__.py:284: ResourceWarning: unclosed file <_io.BufferedReader name='/home/sambeck/.pyenv/versions/3.6.13/lib/python3.6/site-packages/pattern/vector/stopwords-en.txt'>\n",
      "  w = (w.strip() for w in w.read().split(\",\"))\n",
      "/home/sambeck/.pyenv/versions/3.6.13/lib/python3.6/site-packages/pattern/vector/__init__.py:284: ResourceWarning: unclosed file <_io.BufferedReader name='/home/sambeck/.pyenv/versions/3.6.13/lib/python3.6/site-packages/pattern/vector/stopwords-nl.txt'>\n",
      "  w = (w.strip() for w in w.read().split(\",\"))\n",
      "/home/sambeck/.pyenv/versions/3.6.13/lib/python3.6/site-packages/pattern/vector/__init__.py:284: ResourceWarning: unclosed file <_io.BufferedReader name='/home/sambeck/.pyenv/versions/3.6.13/lib/python3.6/site-packages/pattern/vector/stopwords-fr.txt'>\n",
      "  w = (w.strip() for w in w.read().split(\",\"))\n",
      "/home/sambeck/code/checklist/checklist/perturb.py:12: ResourceWarning: unclosed file <_io.TextIOWrapper name='/home/sambeck/code/checklist/checklist/data/lexicons/basic.json' mode='r' encoding='UTF-8'>\n",
      "  basic = json.load(open(os.path.join(cur_folder, 'data', 'lexicons', 'basic.json')))\n",
      "/home/sambeck/code/checklist/checklist/perturb.py:13: ResourceWarning: unclosed file <_io.TextIOWrapper name='/home/sambeck/code/checklist/checklist/data/names.json' mode='r' encoding='UTF-8'>\n",
      "  names = json.load(open(os.path.join(cur_folder, 'data', 'names.json')))\n"
     ]
    }
   ],
   "source": [
    "import datasets\n",
    "from transformers import AutoTokenizer, AutoModelForSequenceClassification, \\\n",
    "    AutoModelForQuestionAnswering, Trainer, TrainingArguments, HfArgumentParser, pipeline\n",
    "from helpers import prepare_dataset_nli, prepare_train_dataset_qa, \\\n",
    "    prepare_validation_dataset_qa, QuestionAnsweringTrainer, compute_accuracy\n",
    "import os\n",
    "import json\n",
    "import checklist\n",
    "from checklist.editor import Editor\n",
    "from checklist.perturb import Perturb\n",
    "\n",
    "NUM_PREPROCESSING_WORKERS = 2"
   ]
  },
  {
   "cell_type": "code",
   "execution_count": 2,
   "id": "b9ae09bf",
   "metadata": {},
   "outputs": [],
   "source": [
    "KEYS = ['id', 'title', 'context', 'question', 'answers']"
   ]
  },
  {
   "cell_type": "markdown",
   "id": "ec1db8e2",
   "metadata": {},
   "source": [
    "### adapt checklist tooling to Huggingface SQuAD standard"
   ]
  },
  {
   "cell_type": "code",
   "execution_count": 3,
   "id": "8efae902",
   "metadata": {},
   "outputs": [
    {
     "name": "stderr",
     "output_type": "stream",
     "text": [
      "/home/sambeck/code/checklist/checklist/editor.py:273: ResourceWarning: unclosed file <_io.TextIOWrapper name='/home/sambeck/code/checklist/checklist/data/lexicons/basic.json' mode='r' encoding='UTF-8'>\n",
      "  self.lexicons.update(json.load(open(os.path.join(folder, f))))\n",
      "/home/sambeck/code/checklist/checklist/editor.py:274: ResourceWarning: unclosed file <_io.TextIOWrapper name='/home/sambeck/code/checklist/checklist/data/names.json' mode='r' encoding='UTF-8'>\n",
      "  self.data['names'] = json.load(open(os.path.join(cur_folder, 'data', 'names.json')))\n",
      "/home/sambeck/code/checklist/checklist/editor.py:281: ResourceWarning: unclosed file <_io.BufferedReader name='/home/sambeck/code/checklist/checklist/data/wikidata.pkl'>\n",
      "  wikidata = pickle.load(open(os.path.join(cur_folder, 'data', 'wikidata.pkl'), 'rb'))\n"
     ]
    }
   ],
   "source": [
    "editor = Editor()"
   ]
  },
  {
   "cell_type": "code",
   "execution_count": 4,
   "id": "89a94073",
   "metadata": {},
   "outputs": [],
   "source": [
    "def create_data_dict(\n",
    "    question_template, context_template, answer_template, lexicon_dict, title, n_samples=3000\n",
    "):\n",
    "    ret = editor.template({\n",
    "        'question': question_template,\n",
    "        'context': context_template, \n",
    "        },\n",
    "        labels={'text': [answer_template]},\n",
    "        **lexicon_dict,\n",
    "        remove_duplicates=True,\n",
    "        nsamples=n_samples,\n",
    "    )\n",
    "    print('Sample:')\n",
    "    print(ret.data[0])\n",
    "    print(ret.labels[0])\n",
    "\n",
    "    ret.answers = ret.labels\n",
    "    del ret.labels\n",
    "    ret.question = [d['question'] for d in ret.data]\n",
    "    ret.context = [d['context'] for d in ret.data]\n",
    "    ret.id = []\n",
    "    ret.title = []\n",
    "\n",
    "    for i in range(len(ret.answers)):\n",
    "        ret.answers[i]['answer_start'] = [ret.context[i].find(ret.answers[i]['text'][0])]\n",
    "        ret.id.append(str(hex(hash(str(ret.data[i]))))[2:])\n",
    "        ret.title.append(title)\n",
    "\n",
    "    del ret.data\n",
    "    return ret\n"
   ]
  },
  {
   "cell_type": "code",
   "execution_count": 5,
   "id": "7e2fb2a5",
   "metadata": {},
   "outputs": [],
   "source": [
    "antonyms = [\n",
    "    ('progressive', 'conservative'),\n",
    "    ('religious', 'secular'),\n",
    "    ('positive', 'negative'),\n",
    "    ('defensive', 'offensive'),\n",
    "    ('rude',  'polite'),\n",
    "    ('optimistic', 'pessimistic'),\n",
    "    ('stupid', 'smart'),\n",
    "    ('negative', 'positive'),\n",
    "    ('unhappy', 'happy'),\n",
    "    ('active', 'passive'),\n",
    "    ('impatient', 'patient'),\n",
    "    ('powerless', 'powerful'),\n",
    "    ('visible', 'invisible'),\n",
    "    ('fat', 'thin'),\n",
    "    ('bad', 'good'),\n",
    "    ('cautious', 'brave'),\n",
    "    ('hopeful', 'hopeless'),\n",
    "    ('insecure', 'secure'),\n",
    "    ('humble', 'proud'),\n",
    "    ('passive', 'active'),\n",
    "    ('dependent', 'independent'),\n",
    "    ('pessimistic', 'optimistic'),\n",
    "    ('irresponsible', 'responsible'),\n",
    "    ('courageous', 'fearful'),\n",
    "    ('nice', 'mean'),\n",
    "    ('young', 'old'),\n",
    "    ('hot', 'cold'),\n",
    "    ('loud', 'quiet'),\n",
    "    ('unusual', 'normal'),\n",
    "]\n"
   ]
  },
  {
   "cell_type": "code",
   "execution_count": 6,
   "id": "c5ad5035",
   "metadata": {},
   "outputs": [],
   "source": [
    "checklist_exs = {}"
   ]
  },
  {
   "cell_type": "code",
   "execution_count": 7,
   "id": "30dfeb05",
   "metadata": {},
   "outputs": [
    {
     "name": "stdout",
     "output_type": "stream",
     "text": [
      "Sample:\n",
      "{'question': 'Who is more easy?', 'context': 'Nick is easy, but Jonathan is more easy.'}\n",
      "{'text': ['Jonathan']}\n"
     ]
    }
   ],
   "source": [
    "title='who_is_more_x'\n",
    "\n",
    "x = create_data_dict(\n",
    "    question_template='Who is {comparison} {madeupadj}?', \n",
    "    context_template='{male1} is {madeupadj}, but {male2} is more {madeupadj}.',\n",
    "    answer_template='{male2}',\n",
    "    lexicon_dict={\n",
    "        'madeupadj': 'easy, educational, ordinary, academic, artistic, average, old, independent, entertaining, enjoyable, original, interesting, good, exciting, amateur, ideal, actual, experimental,  great, funny'.split(', '),\n",
    "        'comparison': ['more', 'most', 'the most', ],\n",
    "    }, \n",
    "    title=title,\n",
    ")\n",
    "checklist_exs[title] = x"
   ]
  },
  {
   "cell_type": "code",
   "execution_count": 8,
   "id": "80a4c256",
   "metadata": {},
   "outputs": [
    {
     "name": "stdout",
     "output_type": "stream",
     "text": [
      "Sample:\n",
      "{'question': 'Who is the most old?', 'context': 'Jack is old, and Andrew is older.'}\n",
      "{'text': ['Andrew']}\n"
     ]
    }
   ],
   "source": [
    "title = 'who_is_more_x_er'\n",
    "\n",
    "x = create_data_dict(\n",
    "    question_template='Who is {comparison} {madeupadj}?', \n",
    "    context_template='{male1} is {madeupadj}, and {male2} is {madeupadj}er.',\n",
    "    answer_template='{male2}',\n",
    "    lexicon_dict={\n",
    "        'madeupadj': 'old, innocent, great, young, sweet, dumb, proud'.split(', '),\n",
    "        'comparison': ['more', 'most', 'the most', ],\n",
    "    }, \n",
    "    title=title,\n",
    ")\n",
    "checklist_exs[title] = x"
   ]
  },
  {
   "cell_type": "code",
   "execution_count": 9,
   "id": "6e4862e9",
   "metadata": {},
   "outputs": [
    {
     "name": "stdout",
     "output_type": "stream",
     "text": [
      "Sample:\n",
      "{'question': 'Who is not as independent?', 'context': 'Virginia is independent although Kathy is way more independent.'}\n",
      "{'text': ['Virginia']}\n"
     ]
    }
   ],
   "source": [
    "title='who_is_less_x'\n",
    "\n",
    "x = create_data_dict(\n",
    "    question_template='Who is {comparison} {madeupadj}?', \n",
    "    context_template='{female1} is {madeupadj}{joiner} {female2} is {modifier}more {madeupadj}.',\n",
    "    answer_template='{female1}',\n",
    "    lexicon_dict={\n",
    "        'madeupadj': 'easy, educational, ordinary, academic, artistic, average, old, independent, entertaining, enjoyable, original, interesting, good, exciting, amateur, ideal, experimental, innocent, interview, engaging, intelligent, interactive, bad, individual, great, funny'.split(', '),\n",
    "        'joiner': [' and', '.', ' but', '; however,', ' although'],\n",
    "        'modifier': ['way ', 'vastly ', '', 'much ', 'slightly ', 'entirely ', 'even '],\n",
    "        'comparison': ['least', 'the least', 'less', 'not as',],\n",
    "    }, \n",
    "    title=title,\n",
    ")\n",
    "checklist_exs[title] = x"
   ]
  },
  {
   "cell_type": "code",
   "execution_count": 10,
   "id": "ed0e0df9",
   "metadata": {},
   "outputs": [
    {
     "name": "stdout",
     "output_type": "stream",
     "text": [
      "Sample:\n",
      "{'question': 'Who is the least young?', 'context': 'Carolyn is young although Kate is even younger.'}\n",
      "{'text': ['Carolyn']}\n"
     ]
    }
   ],
   "source": [
    "title='who_is_less_x_er'\n",
    "\n",
    "x = create_data_dict(\n",
    "    question_template='Who is {comparison} {madeupadj}?', \n",
    "    context_template='{female1} is {madeupadj}{joiner} {female2} is {modifier}{madeupadj}er.',\n",
    "    answer_template='{female1}',\n",
    "    lexicon_dict={\n",
    "        'madeupadj': 'old, great, young, sweet, dumb, proud, vast, green'.split(', '),\n",
    "        'modifier': ['way ', 'vastly ', '', 'much ', 'slightly ', 'entirely ', 'even '], \n",
    "        'joiner': [' and', '.', ' but', '; however,', ' although'],\n",
    "        'comparison': ['least', 'the least', 'less', 'not as',],\n",
    "    }, \n",
    "    title=title,\n",
    ")\n",
    "checklist_exs[title] = x"
   ]
  },
  {
   "cell_type": "code",
   "execution_count": 11,
   "id": "bcd921c1",
   "metadata": {},
   "outputs": [
    {
     "name": "stdout",
     "output_type": "stream",
     "text": [
      "Sample:\n",
      "{'question': 'Which city is less irresponsible?', 'context': 'Philadelphia is irresponsible. St. Louis is slightly more irresponsible.'}\n",
      "{'text': ['Philadelphia']}\n"
     ]
    }
   ],
   "source": [
    "title='who_is_less_antonym0'\n",
    "\n",
    "x = create_data_dict(\n",
    "    question_template='Which city is less {x[0]}?', \n",
    "    context_template='{city1} is {x[0]}. {city2} is {modifier}more {x[0]}.',\n",
    "    answer_template='{city1}',\n",
    "    lexicon_dict={'x': antonyms,\n",
    "                  'modifier': ['way ', 'vastly ', '', 'much ', 'slightly ', 'entirely ', 'even ', 'a bit ']}, \n",
    "    title=title,\n",
    ")\n",
    "checklist_exs[title] = x"
   ]
  },
  {
   "cell_type": "code",
   "execution_count": 12,
   "id": "25458019",
   "metadata": {},
   "outputs": [
    {
     "name": "stdout",
     "output_type": "stream",
     "text": [
      "Sample:\n",
      "{'question': 'Which city is less offensive?', 'context': 'Oklahoma City is defensive. Corpus Christi is more defensive.'}\n",
      "{'text': ['Corpus Christi']}\n"
     ]
    }
   ],
   "source": [
    "title='who_is_less_antonym1'\n",
    "\n",
    "x = create_data_dict(\n",
    "    question_template='Which city is less {x[1]}?', \n",
    "    context_template='{city1} is {x[0]}. {city2} is {modifier}more {x[0]}.',\n",
    "    answer_template='{city2}',\n",
    "    lexicon_dict={'x': antonyms,\n",
    "                  'modifier': ['way ', 'vastly ', '', 'much ', 'slightly ', 'entirely ', 'even ', 'a bit ']}, \n",
    "    title=title,\n",
    ")\n",
    "checklist_exs[title] = x"
   ]
  },
  {
   "cell_type": "code",
   "execution_count": 13,
   "id": "1e776441",
   "metadata": {},
   "outputs": [
    {
     "name": "stdout",
     "output_type": "stream",
     "text": [
      "Sample:\n",
      "{'question': 'Which city is more humble?', 'context': 'Virginia Beach is humble. North Las Vegas is much more humble.'}\n",
      "{'text': ['North Las Vegas']}\n"
     ]
    }
   ],
   "source": [
    "title='who_is_more_antonym0'\n",
    "\n",
    "x = create_data_dict(\n",
    "    question_template='Which city is {comparer} {x[0]}?', \n",
    "    context_template='{city1} is {x[0]}. {city2} is {modifier}more {x[0]}.',\n",
    "    answer_template='{city2}',\n",
    "    lexicon_dict={'x': antonyms,\n",
    "                  'modifier': ['way ', 'vastly ', '', 'much ', 'slightly ', 'entirely ', 'even ', 'a bit ', 'quite a bit '],\n",
    "                  'comparer': ['more', 'most', 'the most'],\n",
    "                 },\n",
    "    title=title,\n",
    ")\n",
    "checklist_exs[title] = x"
   ]
  },
  {
   "cell_type": "code",
   "execution_count": 14,
   "id": "56d562eb",
   "metadata": {},
   "outputs": [
    {
     "name": "stdout",
     "output_type": "stream",
     "text": [
      "Sample:\n",
      "{'question': 'Which city is the most passive?', 'context': 'Glendale is active. Lexington is even more active.'}\n",
      "{'text': ['Glendale']}\n"
     ]
    }
   ],
   "source": [
    "title='who_is_more_antonym1'\n",
    "\n",
    "x = create_data_dict(\n",
    "    question_template='Which city is {comparer} {x[1]}?', \n",
    "    context_template='{city1} is {x[0]}. {city2} is {modifier}more {x[0]}.',\n",
    "    answer_template='{city1}',\n",
    "    lexicon_dict={'x': antonyms,\n",
    "                  'modifier': ['way ', 'vastly ', '', 'much ', 'slightly ', 'entirely ', 'even ', 'a bit ', 'quite a bit '],\n",
    "                  'comparer': ['more', 'most', 'the most'],\n",
    "                 },\n",
    "    title=title,\n",
    ")\n",
    "checklist_exs[title] = x"
   ]
  },
  {
   "cell_type": "code",
   "execution_count": 15,
   "id": "9ea2cc4c",
   "metadata": {},
   "outputs": [
    {
     "name": "stdout",
     "output_type": "stream",
     "text": [
      "Sample:\n",
      "{'question': 'Which city is more cold?', 'context': 'Irvine is hot. Anchorage is not hot.'}\n",
      "{'text': ['Anchorage']}\n"
     ]
    }
   ],
   "source": [
    "title='who_is_not_antonym1'\n",
    "\n",
    "x = create_data_dict(\n",
    "    question_template='Which city is {comparer} {x[1]}?', \n",
    "    context_template='{city1} is {x[0]}. {city2} is not {x[0]}.',\n",
    "    answer_template='{city2}',\n",
    "    lexicon_dict={'x': antonyms,\n",
    "                  'comparer': ['more', 'most', 'the most', 'known for being'],\n",
    "                 },\n",
    "    title=title,\n",
    ")\n",
    "checklist_exs[title] = x"
   ]
  },
  {
   "cell_type": "code",
   "execution_count": 16,
   "id": "0401753e",
   "metadata": {},
   "outputs": [
    {
     "name": "stdout",
     "output_type": "stream",
     "text": [
      "Sample:\n",
      "{'question': 'Which city is known for being courageous?', 'context': 'Milwaukee is fearful. Mesa is not fearful.'}\n",
      "{'text': ['Mesa']}\n"
     ]
    }
   ],
   "source": [
    "title='who_is_not_antonym0'\n",
    "\n",
    "x = create_data_dict(\n",
    "    question_template='Which city is {comparer} {x[0]}?', \n",
    "    context_template='{city1} is {x[1]}. {city2} is not {x[1]}.',\n",
    "    answer_template='{city2}',\n",
    "    lexicon_dict={'x': antonyms,\n",
    "                  'comparer': ['more', 'most', 'the most', 'known for being'],\n",
    "                 },\n",
    "    title=title,\n",
    ")\n",
    "checklist_exs[title] = x"
   ]
  },
  {
   "cell_type": "code",
   "execution_count": 17,
   "id": "7afc41fc",
   "metadata": {},
   "outputs": [
    {
     "name": "stdout",
     "output_type": "stream",
     "text": [
      "Sample:\n",
      "{'question': 'Which country is the least progressive?', 'context': 'Belgium is conservative. Pakistan is progressive.'}\n",
      "{'text': ['Belgium']}\n"
     ]
    }
   ],
   "source": [
    "title='antonym-least1'\n",
    "\n",
    "x = create_data_dict(\n",
    "    question_template='Which country is {comparer} {x[0]}?', \n",
    "    context_template='{country1} is {x[1]}. {country2} is {x[0]}.',\n",
    "    answer_template='{country1}',\n",
    "    lexicon_dict={'x': antonyms,\n",
    "                  'modifier': ['way ', 'vastly ', '', 'much ', 'slightly ', 'entirely ', 'even ', 'a bit ', 'quite a bit '],\n",
    "                  'comparer': ['less', 'least', 'the least', 'not known for being'],\n",
    "                 },\n",
    "    title=title,\n",
    ")\n",
    "checklist_exs[title] = x"
   ]
  },
  {
   "cell_type": "code",
   "execution_count": 18,
   "id": "5d8be9b1",
   "metadata": {},
   "outputs": [
    {
     "name": "stdout",
     "output_type": "stream",
     "text": [
      "Sample:\n",
      "{'question': 'Which country is least smart?', 'context': 'Equatorial Guinea is smart. Jamaica is stupid.'}\n",
      "{'text': ['Jamaica']}\n"
     ]
    }
   ],
   "source": [
    "title='antonym-least2'\n",
    "\n",
    "x = create_data_dict(\n",
    "    question_template='Which country is {comparer} {x[1]}?', \n",
    "    context_template='{country1} is {x[1]}. {country2} is {x[0]}.',\n",
    "    answer_template='{country2}',\n",
    "    lexicon_dict={'x': antonyms,\n",
    "                  'modifier': ['way ', 'vastly ', '', 'much ', 'slightly ', 'entirely ', 'even ', 'a bit ', 'quite a bit '],\n",
    "                  'comparer': ['less', 'least', 'the least', 'not known for being'],\n",
    "                 },\n",
    "    title=title,\n",
    ")\n",
    "checklist_exs[title] = x"
   ]
  },
  {
   "cell_type": "code",
   "execution_count": 19,
   "id": "088bd2fb",
   "metadata": {},
   "outputs": [
    {
     "name": "stdout",
     "output_type": "stream",
     "text": [
      "Sample:\n",
      "{'question': 'Which country is slightly smart?', 'context': 'Haiti is extremely smart. Sweden is strongly stupid. Switzerland is in between the two.'}\n",
      "{'text': ['Switzerland']}\n"
     ]
    }
   ],
   "source": [
    "title='goldilocks'\n",
    "\n",
    "x = create_data_dict(\n",
    "    question_template='Which country is {comparer} {x[1]}?', \n",
    "    context_template='{country1} is {strongly1} {x[1]}. {country2} is {strongly2} {x[0]}. {country3} is in between the two.',\n",
    "    answer_template='{country3}',\n",
    "    lexicon_dict={'x': antonyms,\n",
    "                  'strongly': ['strongly', 'super', 'extremely', 'severely', 'highly', 'ridiculously'],\n",
    "                  'comparer': ['slightly', 'moderately'],\n",
    "                 },\n",
    "    title=title,\n",
    ")\n",
    "checklist_exs[title] = x"
   ]
  },
  {
   "cell_type": "code",
   "execution_count": 20,
   "id": "faa566a4",
   "metadata": {},
   "outputs": [
    {
     "name": "stdout",
     "output_type": "stream",
     "text": [
      "Sample:\n",
      "{'question': 'Which country is the most passive?', 'context': 'China is extremely passive. Zimbabwe is severely active. Greece is in between the two.'}\n",
      "{'text': ['China']}\n"
     ]
    }
   ],
   "source": [
    "title='goldilocks-most-x1'\n",
    "\n",
    "x = create_data_dict(\n",
    "    question_template='Which country is {comparer} {x[1]}?', \n",
    "    context_template='{country1} is {strongly1} {x[1]}. {country2} is {strongly2} {x[0]}. {country3} is in between the two.',\n",
    "    answer_template='{country1}',\n",
    "    lexicon_dict={'x': antonyms,\n",
    "                  'strongly': ['strongly ', 'super', 'extremely', 'severely', 'highly', 'ridiculously'],\n",
    "                  'comparer': ['most', 'the most'],\n",
    "                 },\n",
    "    title=title,\n",
    ")\n",
    "checklist_exs[title] = x"
   ]
  },
  {
   "cell_type": "code",
   "execution_count": 21,
   "id": "ff80d19a",
   "metadata": {},
   "outputs": [
    {
     "name": "stdout",
     "output_type": "stream",
     "text": [
      "Sample:\n",
      "{'question': 'Which country is most hot?', 'context': 'Somalia is severely cold. Honduras is strongly  hot. Jamaica is in between the two.'}\n",
      "{'text': ['Honduras']}\n"
     ]
    }
   ],
   "source": [
    "title='goldilocks-most-x0'\n",
    "\n",
    "x = create_data_dict(\n",
    "    question_template='Which country is {comparer} {x[0]}?', \n",
    "    context_template='{country1} is {strongly1} {x[1]}. {country2} is {strongly2} {x[0]}. {country3} is in between the two.',\n",
    "    answer_template='{country2}',\n",
    "    lexicon_dict={'x': antonyms,\n",
    "                  'strongly': ['strongly ', 'super', 'extremely', 'severely', 'highly', 'ridiculously'],\n",
    "                  'comparer': ['most', 'the most'],\n",
    "                 },\n",
    "    title=title,\n",
    ")\n",
    "checklist_exs[title] = x"
   ]
  },
  {
   "cell_type": "code",
   "execution_count": 22,
   "id": "159b8721",
   "metadata": {},
   "outputs": [
    {
     "name": "stdout",
     "output_type": "stream",
     "text": [
      "Sample:\n",
      "{'question': 'Which country is least old?', 'context': 'Federated States of Micronesia is super old. Equatorial Guinea is severely young. Iceland is in between the two.'}\n",
      "{'text': ['Equatorial Guinea']}\n"
     ]
    }
   ],
   "source": [
    "title='goldilocks-least-x1'\n",
    "\n",
    "x = create_data_dict(\n",
    "    question_template='Which country is {comparer} {x[1]}?', \n",
    "    context_template='{country1} is {strongly1} {x[1]}. {country2} is {strongly2} {x[0]}. {country3} is in between the two.',\n",
    "    answer_template='{country2}',\n",
    "    lexicon_dict={'x': antonyms,\n",
    "                  'strongly': ['strongly', 'super', 'extremely', 'severely', 'highly', 'ridiculously'],\n",
    "                  'comparer': ['least', 'the least'],\n",
    "                 },\n",
    "    title=title,\n",
    ")\n",
    "checklist_exs[title] = x"
   ]
  },
  {
   "cell_type": "code",
   "execution_count": 23,
   "id": "685f5c5c",
   "metadata": {},
   "outputs": [
    {
     "name": "stdout",
     "output_type": "stream",
     "text": [
      "Sample:\n",
      "{'question': 'Which country is the least religious?', 'context': 'Finland is extremely secular. Syria is strongly religious. Bahrain is in between the two.'}\n",
      "{'text': ['Finland']}\n"
     ]
    }
   ],
   "source": [
    "title='goldilocks-least-x0'\n",
    "\n",
    "x = create_data_dict(\n",
    "    question_template='Which country is {comparer} {x[0]}?', \n",
    "    context_template='{country1} is {strongly1} {x[1]}. {country2} is {strongly2} {x[0]}. {country3} is in between the two.',\n",
    "    answer_template='{country1}',\n",
    "    lexicon_dict={'x': antonyms,\n",
    "                  'strongly': ['strongly', 'super', 'extremely', 'severely', 'highly', 'ridiculously'],\n",
    "                  'comparer': ['least', 'the least'],\n",
    "                 },\n",
    "    title=title,\n",
    ")\n",
    "checklist_exs[title] = x"
   ]
  },
  {
   "cell_type": "code",
   "execution_count": null,
   "id": "64ff837b",
   "metadata": {},
   "outputs": [],
   "source": []
  },
  {
   "cell_type": "code",
   "execution_count": 24,
   "id": "6c43d7f6",
   "metadata": {},
   "outputs": [
    {
     "data": {
      "text/plain": [
       "dict_keys(['who_is_more_x', 'who_is_more_x_er', 'who_is_less_x', 'who_is_less_x_er', 'who_is_less_antonym0', 'who_is_less_antonym1', 'who_is_more_antonym0', 'who_is_more_antonym1', 'who_is_not_antonym1', 'who_is_not_antonym0', 'antonym-least1', 'antonym-least2', 'goldilocks', 'goldilocks-most-x1', 'goldilocks-most-x0', 'goldilocks-least-x1', 'goldilocks-least-x0'])"
      ]
     },
     "execution_count": 24,
     "metadata": {},
     "output_type": "execute_result"
    }
   ],
   "source": [
    "checklist_exs.keys()"
   ]
  },
  {
   "cell_type": "code",
   "execution_count": 25,
   "id": "9620fec4",
   "metadata": {},
   "outputs": [
    {
     "data": {
      "text/plain": [
       "dict_keys(['answers', 'question', 'context', 'id', 'title'])"
      ]
     },
     "execution_count": 25,
     "metadata": {},
     "output_type": "execute_result"
    }
   ],
   "source": [
    "checklist_exs['antonym-least2'].keys()"
   ]
  },
  {
   "cell_type": "code",
   "execution_count": 26,
   "id": "aeeac29f",
   "metadata": {},
   "outputs": [],
   "source": [
    "from collections import defaultdict\n",
    "lumped_data = defaultdict(list)\n",
    "for k in KEYS:\n",
    "    for example in checklist_exs.values():\n",
    "        lumped_data[k].extend(example[k])"
   ]
  },
  {
   "cell_type": "code",
   "execution_count": null,
   "id": "28ab2145",
   "metadata": {},
   "outputs": [],
   "source": []
  },
  {
   "cell_type": "code",
   "execution_count": 27,
   "id": "445c2ac4",
   "metadata": {},
   "outputs": [],
   "source": [
    "d = datasets.Dataset.from_dict(lumped_data)"
   ]
  },
  {
   "cell_type": "code",
   "execution_count": 28,
   "id": "30bbc930",
   "metadata": {},
   "outputs": [],
   "source": [
    "d.save_to_disk('./experiments/antonym-negation/')"
   ]
  },
  {
   "cell_type": "code",
   "execution_count": null,
   "id": "1d838ded",
   "metadata": {},
   "outputs": [],
   "source": []
  }
 ],
 "metadata": {
  "kernelspec": {
   "display_name": "PyCharm (a5)",
   "language": "python",
   "name": "pycharm-f95a7fa"
  },
  "language_info": {
   "codemirror_mode": {
    "name": "ipython",
    "version": 3
   },
   "file_extension": ".py",
   "mimetype": "text/x-python",
   "name": "python",
   "nbconvert_exporter": "python",
   "pygments_lexer": "ipython3",
   "version": "3.6.13"
  }
 },
 "nbformat": 4,
 "nbformat_minor": 5
}
