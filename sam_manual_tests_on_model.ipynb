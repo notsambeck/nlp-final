{
 "cells": [
  {
   "cell_type": "code",
   "execution_count": 1,
   "metadata": {},
   "outputs": [],
   "source": [
    "import numpy as np\n",
    "import checklist\n",
    "import logging\n",
    "from transformers import pipeline\n",
    "logging.basicConfig(level=logging.ERROR)"
   ]
  },
  {
   "cell_type": "code",
   "execution_count": 2,
   "metadata": {},
   "outputs": [],
   "source": [
    "model = pipeline(\"question-answering\", model=\"./trained_model\", device=0)"
   ]
  },
  {
   "cell_type": "code",
   "execution_count": 3,
   "metadata": {},
   "outputs": [
    {
     "name": "stdout",
     "output_type": "stream",
     "text": [
      "{'score': 0.8596369624137878, 'start': 40, 'end': 43, 'answer': 'red'}\n"
     ]
    }
   ],
   "source": [
    "pred = model(question=\"Which color is the animal not?\", context=\"There is a black dog and there is not a red dog.\", truncation=True, )\n",
    "print(pred)"
   ]
  },
  {
   "cell_type": "code",
   "execution_count": 4,
   "metadata": {},
   "outputs": [
    {
     "name": "stdout",
     "output_type": "stream",
     "text": [
      "{'score': 0.6053601503372192, 'start': 11, 'end': 16, 'answer': 'black'}\n"
     ]
    }
   ],
   "source": [
    "pred = model(question=\"Which color is the animal?\", context=\"There is a black dog and there is not a red dog.\", truncation=True, )\n",
    "print(pred)"
   ]
  },
  {
   "cell_type": "code",
   "execution_count": 5,
   "metadata": {},
   "outputs": [
    {
     "name": "stdout",
     "output_type": "stream",
     "text": [
      "{'score': 0.9532139301300049, 'start': 12, 'end': 16, 'answer': 'cold'}\n"
     ]
    }
   ],
   "source": [
    "pred = model(question=\"What temperature is John?\", context=\"John is not cold.\", truncation=True, )\n",
    "print(pred)"
   ]
  },
  {
   "cell_type": "code",
   "execution_count": 12,
   "metadata": {},
   "outputs": [
    {
     "name": "stdout",
     "output_type": "stream",
     "text": [
      "{'score': 0.7893819212913513, 'start': 24, 'end': 27, 'answer': 'hot'}\n"
     ]
    }
   ],
   "source": [
    "pred = model(question=\"What temperature is John?\", context=\"John is not cold. He is hot.\", truncation=True, )\n",
    "print(pred)"
   ]
  },
  {
   "cell_type": "code",
   "execution_count": 13,
   "metadata": {},
   "outputs": [
    {
     "name": "stdout",
     "output_type": "stream",
     "text": [
      "{'score': 0.48103150725364685, 'start': 12, 'end': 16, 'answer': 'cold'}\n"
     ]
    }
   ],
   "source": [
    "pred = model(question=\"What temperature is John?\", context=\"John is not cold. Hot is the opposite of cold.\", truncation=True, )\n",
    "print(pred)"
   ]
  },
  {
   "cell_type": "code",
   "execution_count": 20,
   "metadata": {},
   "outputs": [
    {
     "name": "stdout",
     "output_type": "stream",
     "text": [
      "{'score': 0.6181373596191406, 'start': 39, 'end': 44, 'answer': 'snake'}\n"
     ]
    }
   ],
   "source": [
    "pred = model(question=\"What is the opposite of hot?\", context=\"A cold gopher, a polar bear, and a hot snake.\", truncation=True, )\n",
    "print(pred)"
   ]
  },
  {
   "cell_type": "code",
   "execution_count": 17,
   "metadata": {},
   "outputs": [
    {
     "name": "stdout",
     "output_type": "stream",
     "text": [
      "{'score': 0.6008995771408081, 'start': 68, 'end': 73, 'answer': 'snake'}\n"
     ]
    }
   ],
   "source": [
    "pred = model(question=\"Which thing is least hot?\", context=\"There are three things: a cold gopher, a warm polar bear, and a hot snake.\", truncation=True, )\n",
    "print(pred)"
   ]
  },
  {
   "cell_type": "code",
   "execution_count": 4,
   "metadata": {},
   "outputs": [
    {
     "name": "stdout",
     "output_type": "stream",
     "text": [
      "{'score': 0.9843927025794983, 'start': 23, 'end': 27, 'answer': 'cold'}\n"
     ]
    }
   ],
   "source": [
    "pred = model(question=\"What is the opposite of hot?\", context=\"Hot is the opposite of cold.\", truncation=True, )\n",
    "print(pred)"
   ]
  },
  {
   "cell_type": "code",
   "execution_count": 29,
   "metadata": {},
   "outputs": [
    {
     "name": "stdout",
     "output_type": "stream",
     "text": [
      "{'score': 0.5722079277038574, 'start': 63, 'end': 68, 'answer': 'snake'}\n"
     ]
    }
   ],
   "source": [
    "pred = model(question=\"Which thing is not hot?\", \n",
    "             context=\"There are three things: a cold gopher, a polar bear, and a hot snake.\", \n",
    "             truncation=True, )\n",
    "print(pred)"
   ]
  },
  {
   "cell_type": "code",
   "execution_count": 20,
   "metadata": {},
   "outputs": [
    {
     "name": "stdout",
     "output_type": "stream",
     "text": [
      "{'score': 0.44537386298179626, 'start': 24, 'end': 65, 'answer': 'a cold goat, a tepid hat, and a warm bird'}\n"
     ]
    }
   ],
   "source": [
    "pred = model(question=\"Which thing is the hottest?\", \n",
    "             context=\"There are three things: a cold goat, a tepid hat, and a warm bird.\",\n",
    "             truncation=True, )\n",
    "print(pred)"
   ]
  },
  {
   "cell_type": "code",
   "execution_count": 28,
   "metadata": {},
   "outputs": [
    {
     "name": "stdout",
     "output_type": "stream",
     "text": [
      "{'score': 0.9951404333114624, 'start': 32, 'end': 35, 'answer': 'Hot'}\n"
     ]
    }
   ],
   "source": [
    "pred = model(question=\"What is a medium temperature?\",\n",
    "             context=\"Tepid is between warm and cold. Hot is a high temperature.\",\n",
    "             truncation=True, )\n",
    "print(pred)"
   ]
  },
  {
   "cell_type": "code",
   "execution_count": 21,
   "metadata": {},
   "outputs": [
    {
     "name": "stdout",
     "output_type": "stream",
     "text": [
      "{'score': 0.9625641107559204, 'start': 0, 'end': 4, 'answer': 'Warm'}\n"
     ]
    }
   ],
   "source": [
    "pred = model(question=\"What is much hotter than cold?\", \n",
    "             context=\"Warm is hotter than cold, but hot is the hottest.\",\n",
    "             truncation=True, )\n",
    "print(pred)"
   ]
  },
  {
   "cell_type": "code",
   "execution_count": null,
   "metadata": {},
   "outputs": [],
   "source": []
  },
  {
   "cell_type": "code",
   "execution_count": null,
   "metadata": {},
   "outputs": [],
   "source": []
  }
 ],
 "metadata": {
  "kernelspec": {
   "display_name": "PyCharm (a5)",
   "language": "python",
   "name": "pycharm-f95a7fa"
  },
  "language_info": {
   "codemirror_mode": {
    "name": "ipython",
    "version": 3
   },
   "file_extension": ".py",
   "mimetype": "text/x-python",
   "name": "python",
   "nbconvert_exporter": "python",
   "pygments_lexer": "ipython3",
   "version": "3.6.13"
  }
 },
 "nbformat": 4,
 "nbformat_minor": 4
}
