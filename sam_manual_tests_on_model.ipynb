{
 "cells": [
  {
   "cell_type": "code",
   "execution_count": 1,
   "metadata": {},
   "outputs": [],
   "source": [
    "import numpy as np\n",
    "import checklist\n",
    "import logging\n",
    "from transformers import pipeline\n",
    "logging.basicConfig(level=logging.ERROR)"
   ]
  },
  {
   "cell_type": "code",
   "execution_count": 2,
   "metadata": {},
   "outputs": [],
   "source": [
    "model = pipeline(\"question-answering\", model=\"./trained_model\", device=0)"
   ]
  },
  {
   "cell_type": "code",
   "execution_count": 3,
   "metadata": {},
   "outputs": [
    {
     "name": "stdout",
     "output_type": "stream",
     "text": [
      "{'score': 0.8596369624137878, 'start': 40, 'end': 43, 'answer': 'red'}\n"
     ]
    }
   ],
   "source": [
    "pred = model(question=\"Which color is the animal not?\", context=\"There is a black dog and there is not a red dog.\", truncation=True, )\n",
    "print(pred)"
   ]
  },
  {
   "cell_type": "code",
   "execution_count": 4,
   "metadata": {},
   "outputs": [
    {
     "name": "stdout",
     "output_type": "stream",
     "text": [
      "{'score': 0.6053601503372192, 'start': 11, 'end': 16, 'answer': 'black'}\n"
     ]
    }
   ],
   "source": [
    "pred = model(question=\"Which color is the animal?\", context=\"There is a black dog and there is not a red dog.\", truncation=True, )\n",
    "print(pred)"
   ]
  },
  {
   "cell_type": "code",
   "execution_count": 5,
   "metadata": {},
   "outputs": [
    {
     "name": "stdout",
     "output_type": "stream",
     "text": [
      "{'score': 0.9532139301300049, 'start': 12, 'end': 16, 'answer': 'cold'}\n"
     ]
    }
   ],
   "source": [
    "pred = model(question=\"What temperature is John?\", context=\"John is not cold.\", truncation=True, )\n",
    "print(pred)"
   ]
  },
  {
   "cell_type": "code",
   "execution_count": 12,
   "metadata": {},
   "outputs": [
    {
     "name": "stdout",
     "output_type": "stream",
     "text": [
      "{'score': 0.7893819212913513, 'start': 24, 'end': 27, 'answer': 'hot'}\n"
     ]
    }
   ],
   "source": [
    "pred = model(question=\"What temperature is John?\", context=\"John is not cold. He is hot.\", truncation=True, )\n",
    "print(pred)"
   ]
  },
  {
   "cell_type": "code",
   "execution_count": 13,
   "metadata": {},
   "outputs": [
    {
     "name": "stdout",
     "output_type": "stream",
     "text": [
      "{'score': 0.48103150725364685, 'start': 12, 'end': 16, 'answer': 'cold'}\n"
     ]
    }
   ],
   "source": [
    "pred = model(question=\"What temperature is John?\", context=\"John is not cold. Hot is the opposite of cold.\", truncation=True, )\n",
    "print(pred)"
   ]
  },
  {
   "cell_type": "code",
   "execution_count": 20,
   "metadata": {},
   "outputs": [
    {
     "name": "stdout",
     "output_type": "stream",
     "text": [
      "{'score': 0.6181373596191406, 'start': 39, 'end': 44, 'answer': 'snake'}\n"
     ]
    }
   ],
   "source": [
    "pred = model(question=\"What is the opposite of hot?\", context=\"A cold gopher, a polar bear, and a hot snake.\", truncation=True, )\n",
    "print(pred)"
   ]
  },
  {
   "cell_type": "code",
   "execution_count": 22,
   "metadata": {},
   "outputs": [
    {
     "name": "stdout",
     "output_type": "stream",
     "text": [
      "{'score': 0.7813573479652405, 'start': 63, 'end': 68, 'answer': 'snake'}\n"
     ]
    }
   ],
   "source": [
    "pred = model(question=\"What is not hot?\", context=\"There are three things: a cold gopher, a polar bear, and a hot snake.\", truncation=True, )\n",
    "print(pred)"
   ]
  },
  {
   "cell_type": "code",
   "execution_count": 23,
   "metadata": {},
   "outputs": [
    {
     "name": "stdout",
     "output_type": "stream",
     "text": [
      "{'score': 0.5722079277038574, 'start': 63, 'end': 68, 'answer': 'snake'}\n"
     ]
    }
   ],
   "source": [
    "pred = model(question=\"Which thing is not hot?\", context=\"There are three things: a cold gopher, a polar bear, and a hot snake.\", truncation=True, )\n",
    "print(pred)"
   ]
  },
  {
   "cell_type": "code",
   "execution_count": 15,
   "metadata": {},
   "outputs": [
    {
     "name": "stdout",
     "output_type": "stream",
     "text": [
      "{'score': 0.9051827192306519, 'start': 0, 'end': 6, 'answer': 'yellow'}\n"
     ]
    }
   ],
   "source": [
    "pred = model(question=\"What is the opposite of hot?\", context=\"yellow. hot. big. cold. gopher.\", truncation=True, )\n",
    "print(pred)"
   ]
  }
 ],
 "metadata": {
  "kernelspec": {
   "display_name": "PyCharm (a5)",
   "language": "python",
   "name": "pycharm-f95a7fa"
  },
  "language_info": {
   "codemirror_mode": {
    "name": "ipython",
    "version": 3
   },
   "file_extension": ".py",
   "mimetype": "text/x-python",
   "name": "python",
   "nbconvert_exporter": "python",
   "pygments_lexer": "ipython3",
   "version": "3.6.13"
  }
 },
 "nbformat": 4,
 "nbformat_minor": 4
}
